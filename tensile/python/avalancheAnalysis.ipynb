{
 "cells": [
  {
   "cell_type": "code",
   "execution_count": 104,
   "id": "023e9a69",
   "metadata": {},
   "outputs": [],
   "source": [
    "import pandas as pd\n",
    "import numpy as np\n",
    "import os\n",
    "import traceback\n",
    "import pdb\n",
    "import configparser\n",
    "import matplotlib.pyplot as plt\n",
    "np.seterr(all=\"ignore\")\n",
    "plt.rcParams['text.usetex'] = True\n",
    "#--- user libs\n",
    "import utility as utl\n",
    "import imp\n",
    "imp.reload(utl)\n",
    "\n",
    "\n",
    "class Symbols:\n",
    "    def __init__(self):\n",
    "        self.colors = ['black','red','green','blue','cyan','brown','grey','magenta','orange','yellow']\n",
    "        self.fillstyles=['white',None,'white',None,'white',None,'white',None,'white',None,'white',None,'white',None,'white',None]\n",
    "        self.markers=['o','s','D','^','<','>','v']\n",
    "        self.markersizes=[10,10,10,12,12,12,10]\n",
    "        self.nmax=7\n",
    "        \n",
    "    def GetAttrs(self,count=0,label='',nevery=1,fmt='.-',zorder=1):\n",
    "        if count > self.nmax:\n",
    "            print('index out of list bound!')\n",
    "            return \n",
    "        attrs={ 'color':self.colors[count],\n",
    "            'markersize':self.markersizes[count],\n",
    "            'marker':self.markers[count],\n",
    "            'markerfacecolor':self.colors[count],\n",
    "            'markeredgecolor':'white', #'black' if not self.fillstyles[count] else None,\n",
    "            'label':label,\n",
    "           'markevery':nevery,\n",
    "           'errorevery':nevery,\n",
    "           'markeredgewidth':1.75,\n",
    "            'linewidth':1, \n",
    "           'barsabove':None,\n",
    "           'capsize':5,\n",
    "           'capthick':1,\n",
    "           'elinewidth':1,\n",
    "           'fmt':fmt,\n",
    "             'zorder':zorder,\n",
    "         }\n",
    "        return attrs\n",
    "    \n",
    "    def GetAttrs2nd(self,count=0,label='',nevery=1,fmt='.-',zorder=1):\n",
    "        if count > self.nmax:\n",
    "            print('index out of list bound!')\n",
    "            return \n",
    "        attrs={ 'color':self.colors[count],\n",
    "            'markersize':self.markersizes[count],\n",
    "            'marker':self.markers[count],\n",
    "            'markerfacecolor':'white',\n",
    "#            'markeredgecolor':'black' if not self.fillstyles[count] else None,\n",
    "            'label':label,\n",
    "           'markevery':nevery,\n",
    "           'errorevery':nevery,\n",
    "           'markeredgewidth':1.75,\n",
    "            'linewidth':1, \n",
    "           'barsabove':None,\n",
    "           'capsize':5,\n",
    "           'capthick':1,\n",
    "           'elinewidth':1,\n",
    "           'fmt':fmt,\n",
    "            'zorder':zorder,\n",
    "          }\n",
    "        return attrs\n",
    "\n",
    "class Legends:\n",
    "    def __init__(self\n",
    "                ):\n",
    "        pass\n",
    "    def Set(self,fontsize=20,\n",
    "                 labelspacing=0,\n",
    "                 **kwargs\n",
    "#                 bbox_to_anchor=(0.5,0.48,0.5,0.5),\n",
    "           ):\n",
    "        self.attrs = {'frameon':False,'fontsize':fontsize,\n",
    "                   'labelspacing':labelspacing,\n",
    "                      'handletextpad':.2,\n",
    "                   'handlelength':1,\n",
    "                    **kwargs,\n",
    "                     }\n",
    "    def Get(self):\n",
    "        return self.attrs"
   ]
  },
  {
   "cell_type": "markdown",
   "id": "290f38c6",
   "metadata": {},
   "source": [
    "# set parameters\n",
    "## load curves"
   ]
  },
  {
   "cell_type": "code",
   "execution_count": 87,
   "id": "976d1f94",
   "metadata": {},
   "outputs": [
    {
     "name": "stdout",
     "output_type": "stream",
     "text": [
      "inputFiles= ['tensile300k.txt' 'tensile700k.txt' 'tensile900k.txt' 'tensile600k.txt'\n",
      " 'tensile800k.txt']\n"
     ]
    }
   ],
   "source": [
    "parser = configparser.ConfigParser()\n",
    "parser.read('config.ini')\n",
    "\n",
    "path=parser['test data directory']['path']\n",
    "#\n",
    "inputFiles = os.listdir('%s'%(path))\n",
    "print('inputFiles=',np.array(inputFiles))\n",
    "\n",
    "\n"
   ]
  },
  {
   "cell_type": "markdown",
   "id": "56eb9a16",
   "metadata": {},
   "source": [
    "# Parse load curves"
   ]
  },
  {
   "cell_type": "code",
   "execution_count": 21,
   "id": "f05afe31",
   "metadata": {},
   "outputs": [
    {
     "data": {
      "text/html": [
       "<div>\n",
       "<style scoped>\n",
       "    .dataframe tbody tr th:only-of-type {\n",
       "        vertical-align: middle;\n",
       "    }\n",
       "\n",
       "    .dataframe tbody tr th {\n",
       "        vertical-align: top;\n",
       "    }\n",
       "\n",
       "    .dataframe thead th {\n",
       "        text-align: right;\n",
       "    }\n",
       "</style>\n",
       "<table border=\"1\" class=\"dataframe\">\n",
       "  <thead>\n",
       "    <tr style=\"text-align: right;\">\n",
       "      <th></th>\n",
       "      <th>Time</th>\n",
       "      <th>Stress</th>\n",
       "    </tr>\n",
       "  </thead>\n",
       "  <tbody>\n",
       "    <tr>\n",
       "      <th>0</th>\n",
       "      <td>3.498214e-14</td>\n",
       "      <td>-0.037254</td>\n",
       "    </tr>\n",
       "    <tr>\n",
       "      <th>1</th>\n",
       "      <td>1.000000e-05</td>\n",
       "      <td>-0.036465</td>\n",
       "    </tr>\n",
       "    <tr>\n",
       "      <th>2</th>\n",
       "      <td>2.000000e-05</td>\n",
       "      <td>-0.035594</td>\n",
       "    </tr>\n",
       "    <tr>\n",
       "      <th>3</th>\n",
       "      <td>3.000000e-05</td>\n",
       "      <td>-0.034639</td>\n",
       "    </tr>\n",
       "    <tr>\n",
       "      <th>4</th>\n",
       "      <td>4.000000e-05</td>\n",
       "      <td>-0.033637</td>\n",
       "    </tr>\n",
       "    <tr>\n",
       "      <th>...</th>\n",
       "      <td>...</td>\n",
       "      <td>...</td>\n",
       "    </tr>\n",
       "    <tr>\n",
       "      <th>799995</th>\n",
       "      <td>7.999950e+00</td>\n",
       "      <td>4.748868</td>\n",
       "    </tr>\n",
       "    <tr>\n",
       "      <th>799996</th>\n",
       "      <td>7.999960e+00</td>\n",
       "      <td>4.751020</td>\n",
       "    </tr>\n",
       "    <tr>\n",
       "      <th>799997</th>\n",
       "      <td>7.999970e+00</td>\n",
       "      <td>4.753173</td>\n",
       "    </tr>\n",
       "    <tr>\n",
       "      <th>799998</th>\n",
       "      <td>7.999980e+00</td>\n",
       "      <td>4.755352</td>\n",
       "    </tr>\n",
       "    <tr>\n",
       "      <th>799999</th>\n",
       "      <td>7.999990e+00</td>\n",
       "      <td>4.757565</td>\n",
       "    </tr>\n",
       "  </tbody>\n",
       "</table>\n",
       "<p>800000 rows × 2 columns</p>\n",
       "</div>"
      ],
      "text/plain": [
       "                Time    Stress\n",
       "0       3.498214e-14 -0.037254\n",
       "1       1.000000e-05 -0.036465\n",
       "2       2.000000e-05 -0.035594\n",
       "3       3.000000e-05 -0.034639\n",
       "4       4.000000e-05 -0.033637\n",
       "...              ...       ...\n",
       "799995  7.999950e+00  4.748868\n",
       "799996  7.999960e+00  4.751020\n",
       "799997  7.999970e+00  4.753173\n",
       "799998  7.999980e+00  4.755352\n",
       "799999  7.999990e+00  4.757565\n",
       "\n",
       "[800000 rows x 2 columns]"
      ]
     },
     "execution_count": 21,
     "metadata": {},
     "output_type": "execute_result"
    }
   ],
   "source": [
    "#--- read input file\n",
    "loadTimeSeries=list(map(lambda x:pd.DataFrame(np.c_[np.loadtxt('%s/%s'%(path,x))],\n",
    "                columns=['Time','Stress']),inputFiles))\n",
    "loadTimeSeries[0] #--- index indicates the indenter location"
   ]
  },
  {
   "cell_type": "markdown",
   "id": "72267023",
   "metadata": {},
   "source": [
    "# Plot timeseries"
   ]
  },
  {
   "cell_type": "code",
   "execution_count": 59,
   "id": "b19b9655",
   "metadata": {
    "scrolled": false
   },
   "outputs": [
    {
     "name": "stdout",
     "output_type": "stream",
     "text": [
      "mkdir: png: File exists\r\n"
     ]
    },
    {
     "data": {
      "image/png": "[encoded data removed]",
      "text/plain": [
       "<Figure size 288x288 with 1 Axes>"
      ]
     },
     "metadata": {
      "needs_background": "light"
     },
     "output_type": "display_data"
    },
    {
     "data": {
      "image/png": "[encoded data removed]",
      "text/plain": [
       "<Figure size 288x288 with 1 Axes>"
      ]
     },
     "metadata": {
      "needs_background": "light"
     },
     "output_type": "display_data"
    },
    {
     "data": {
      "text/plain": [
       "<AxesSubplot:xlabel='$\\\\epsilon$', ylabel='$-d\\\\sigma/d\\\\epsilon$'>"
      ]
     },
     "execution_count": 59,
     "metadata": {},
     "output_type": "execute_result"
    }
   ],
   "source": [
    "!mkdir png\n",
    "\n",
    "#--- set limits\n",
    "index = 0 #--- file index\n",
    "ld = loadTimeSeries[ index ] #--- file id\n",
    "# indentLabel, grainID = GetGrainId(indent,indentLabels,loadID,index)\n",
    "# print('indent label:%s, grain id:%s'%(indentLabel,grainID))\n",
    "\n",
    "#--- time\n",
    "tlo = 7.25 #ld.Time.min()\n",
    "thi = ld.Time.max()\n",
    "filtr=np.all([ld['Time']<thi,ld['Time']>=tlo],axis=0)\n",
    "# #--- load\n",
    "flo = 0.99*ld['Stress'][filtr].min()\n",
    "fhi = 1.01*ld['Stress'][filtr].max() #ld.Force.max()\n",
    "\n",
    "#--- load vs. time\n",
    "utl.PltErr(ld.Time, ld.Stress,\n",
    "           attrs={'fmt':'-'},\n",
    "            xlim=(tlo,thi),\n",
    "            ylim=(flo,fhi),\n",
    "           xstr=r'$\\epsilon$',\n",
    "           ystr=r'$\\sigma$',\n",
    "           title='png/stress_timeseries.png'\n",
    "          )\n",
    "\n",
    "ax=utl.PltErr(ld.Time, -np.gradient(ld.Stress,ld.Time),\n",
    "           attrs={'fmt':'-'},\n",
    "            Plot=False,\n",
    "          )\n",
    "\n",
    "utl.PltErr([tlo,thi],[0,0],\n",
    "           attrs={'fmt':'-.r'},\n",
    "            xlim=(tlo,thi),\n",
    "#            ylim=(flo,fhi),\n",
    "           xstr=r'$\\epsilon$',\n",
    "           ystr=r'$-d\\sigma/d\\epsilon$',\n",
    "           ax=ax,\n",
    "           title='png/stress_derivative.png'\n",
    "          )\n"
   ]
  },
  {
   "cell_type": "markdown",
   "id": "933536a0",
   "metadata": {},
   "source": [
    "## output timeseries"
   ]
  },
  {
   "cell_type": "markdown",
   "id": "a14a7645",
   "metadata": {},
   "source": [
    "# Avalanche statistics"
   ]
  },
  {
   "cell_type": "markdown",
   "id": "bbd624c5",
   "metadata": {},
   "source": [
    "## Avalanche size"
   ]
  },
  {
   "cell_type": "code",
   "execution_count": 197,
   "id": "7ad325ec",
   "metadata": {},
   "outputs": [
    {
     "name": "stdout",
     "output_type": "stream",
     "text": [
      "# of avalanches:726\n",
      "# of avalanches:1428\n",
      "# of avalanches:1797\n",
      "# of avalanches:1162\n",
      "# of avalanches:1545\n"
     ]
    },
    {
     "data": {
      "image/png": "[encoded data removed]",
      "text/plain": [
       "<Figure size 288x288 with 1 Axes>"
      ]
     },
     "metadata": {
      "needs_background": "light"
     },
     "output_type": "display_data"
    },
    {
     "data": {
      "text/plain": [
       "<AxesSubplot:xlabel='$\\\\epsilon$', ylabel='$s$'>"
      ]
     },
     "execution_count": 197,
     "metadata": {},
     "output_type": "execute_result"
    }
   ],
   "source": [
    "def Wrapper_GetAvl(ld,tlo,thi,lambdc):\n",
    "    '''\n",
    "    return avalanche sizes given force timeseries and initial and final times\n",
    "    '''\n",
    "    \n",
    "#    print(np.min(GetPower(ld,tlo,thi)))\n",
    "    \n",
    "    #--- data frame storing avalanche attributes\n",
    "    filtr = np.all([ld.Time>tlo,ld.Time<thi],axis=0)\n",
    "\n",
    "    df_avl = utl.GetAvl( np.array(ld.Time[filtr]), -np.gradient(ld.Stress,ld.Time)[filtr], lambdc)\n",
    "    print('# of avalanches:%s'%df_avl.shape[0])\n",
    "    #df_avl = GetAvalKunMethod( broken_bonds,  5) #tcrltn )\n",
    "\n",
    "    #--- save\n",
    "    # df_fltrd = DataFrameSubSet( df_avl, #--- filter\n",
    "    #                               'ti', \n",
    "    #                               ( 0, tavl ) ) \n",
    "    # df_fltrd.to_pickle('df_avl.pk')\n",
    "\n",
    "    df_avl.sort_values( by = 'size',ascending = False,inplace=True)\n",
    "#    print ('n.avls = %s'%len(df_avl))\n",
    "    return df_avl #np.array(df_avl['size'].to_list())\n",
    "    \n",
    "lambdc = 1.0e-3 #--- threshold\n",
    "temps=['300','700','900','600','800']\n",
    "try:\n",
    "#    df_avl = np.concatenate(list(map(lambda x:Wrapper_GetAvl(x,tlo,thi,lambdc), loadTimeSeries)))\n",
    "    df_avl = dict(zip(temps,list(map(lambda x:Wrapper_GetAvl(x,tlo,thi,lambdc), loadTimeSeries))))\n",
    "#    print('df_avl.shape:%s'%df_avl['300'].shape[0])\n",
    "#    df_avl = Wrapper_GetAvl(ld,tlo,thi,lambdc)\n",
    "except:\n",
    "    print('increase the threshold')\n",
    "    \n",
    "    \n",
    "\n",
    "utl.PltErr(df_avl['300']['tf'],df_avl['300']['size'],\n",
    "           attrs={'fmt':'x'},\n",
    "#             xlim=(tlo,thi),\n",
    "#            ylim=(flo,fhi),\n",
    "           xstr=r'$\\epsilon$',\n",
    "           ystr=r'$s$',\n",
    "           yscale='log',\n",
    "           title='png/size.png'\n",
    "          )\n"
   ]
  },
  {
   "cell_type": "markdown",
   "id": "f69b784c",
   "metadata": {},
   "source": [
    "### pdf"
   ]
  },
  {
   "cell_type": "code",
   "execution_count": 210,
   "id": "e51f6198",
   "metadata": {},
   "outputs": [
    {
     "data": {
      "image/png": "[encoded data removed]",
      "text/plain": [
       "<Figure size 288x288 with 1 Axes>"
      ]
     },
     "metadata": {
      "needs_background": "light"
     },
     "output_type": "display_data"
    },
    {
     "data": {
      "text/plain": [
       "<AxesSubplot:xlabel='$s$', ylabel='$P(s)$'>"
      ]
     },
     "execution_count": 210,
     "metadata": {},
     "output_type": "execute_result"
    }
   ],
   "source": [
    "ax = utl.PltErr(None,None,Plot=False)\n",
    "symbols=Symbols()\n",
    "legend=Legends()\n",
    "legend.Set(fontsize=20,\n",
    "                 labelspacing=0,\n",
    "                 bbox_to_anchor=(.9,0.48,0.5,0.5),\n",
    "           )\n",
    "\n",
    "alpha=1.0\n",
    "for count,temp in zip(range(len(df_avl)),['300','600','700','800','900']): #--- different temperatures\n",
    "    sizes = df_avl[temp]['size']\n",
    "    smax = np.max(sizes)\n",
    "    hist, edge, err = utl.GetPDF(sizes, n_per_decade=8, linscale=None)\n",
    "\n",
    "    utl.PltErr(edge, \n",
    "               10**count*hist,#*edge**alpha, \n",
    "               yerr=10**count*err,#*edge**alpha,\n",
    "               Plot=False,ax=ax,\n",
    "               attrs=symbols.GetAttrs(count=count,label=r'$%s$'%temp))\n",
    "\n",
    "utl.PltErr(None, None,\n",
    "           attrs={'fmt':'-.r'},\n",
    "#           ystr=r'$P(s).s^{%s}$'%alpha,\n",
    "           ystr=r'$P(s)$',\n",
    "           xstr=r'$s$',\n",
    "           xscale = 'log',\n",
    "           yscale='log',\n",
    "           xlim=(1.0e-6,.2),\n",
    "           ylim=(1e-1,1e8),#(1e-3,1e4),\n",
    "           ax=ax,\n",
    "           title='png/ps.png',\n",
    "            legend=legend.Get()\n",
    "          )"
   ]
  },
  {
   "cell_type": "markdown",
   "id": "896497d7",
   "metadata": {},
   "source": [
    "### vary threshold"
   ]
  },
  {
   "cell_type": "code",
   "execution_count": 186,
   "id": "efac0192",
   "metadata": {},
   "outputs": [
    {
     "name": "stdout",
     "output_type": "stream",
     "text": [
      "# of avalanches:726\n",
      "# of avalanches:726\n",
      "# of avalanches:728\n",
      "# of avalanches:728\n",
      "# of avalanches:718\n",
      "# of avalanches:391\n"
     ]
    },
    {
     "data": {
      "image/png": "[encoded data removed]",
      "text/plain": [
       "<Figure size 288x288 with 1 Axes>"
      ]
     },
     "metadata": {
      "needs_background": "light"
     },
     "output_type": "display_data"
    },
    {
     "data": {
      "text/plain": [
       "<AxesSubplot:xlabel='$s$', ylabel='$P(s)$'>"
      ]
     },
     "execution_count": 186,
     "metadata": {},
     "output_type": "execute_result"
    }
   ],
   "source": [
    "def varyThreshold(loadTimeSeries, tlo, thi, lambdc):\n",
    "    return np.concatenate(list(map(lambda x:Wrapper_GetAvl(x,tlo,thi,lambdc)['size'], loadTimeSeries)))\n",
    "\n",
    "legend=Legends()\n",
    "legend.Set(fontsize=16,\n",
    "                 labelspacing=0,\n",
    "                 bbox_to_anchor=(1,0.48,0.5,0.5),\n",
    "           )\n",
    "#\n",
    "alpha=1.0\n",
    "#\n",
    "lambdc = np.logspace(np.log10(1.0e-3),np.log10(1.0e2),6)\n",
    "size_lambdc = list(map(lambda x:varyThreshold([loadTimeSeries[0]], tlo, thi, x),lambdc))\n",
    "\n",
    "#--- distributions\n",
    "hists = list(map(lambda x: utl.GetPDF(x, n_per_decade=8, linscale=None), size_lambdc))\n",
    "\n",
    "ax = utl.PltErr(None,None,Plot=False)\n",
    "for item, threshold, indx in zip(hists, lambdc, range(len(hists))):\n",
    "    hist, edge, err = item\n",
    "    ax=utl.PltErr(edge, \n",
    "                  10**indx*hist,#*edge**alpha, \n",
    "                  yerr=10**indx*err,#*edge**alpha,\n",
    "                   attrs=symbols.GetAttrs(count=indx%7,label=r'$%2.1e$'%threshold),\n",
    "                    Plot = False,\n",
    "                    ax=ax,\n",
    "                  )\n",
    "utl.PltErr(None,None,\n",
    "#    edge, 1e-1/edge**alpha,\n",
    "#           attrs={'fmt':'-.r'},\n",
    "            legend=legend.Get(),\n",
    "#           ystr=r'$P(s).s^{%s}$'%alpha,xstr=r'$s$',\n",
    "           ystr=r'$P(s)$',xstr=r'$s$',\n",
    "           xscale = 'log',yscale='log',\n",
    "           xlim=(1.0e-6,.2),ylim=(1e-1,1e8), #hist.min(),hist.min()*1e8),\n",
    "           ax=ax,\n",
    "           title='png/ps.png',\n",
    "          )"
   ]
  },
  {
   "cell_type": "code",
   "execution_count": 170,
   "id": "8bd26ad9",
   "metadata": {},
   "outputs": [
    {
     "name": "stdout",
     "output_type": "stream",
     "text": [
      "[ 1.25007966 -0.53496973 12.76198166]\n"
     ]
    },
    {
     "data": {
      "image/png": "[encoded data removed]",
      "text/plain": [
       "<Figure size 288x288 with 1 Axes>"
      ]
     },
     "metadata": {
      "needs_background": "light"
     },
     "output_type": "display_data"
    },
    {
     "data": {
      "text/plain": [
       "<AxesSubplot:>"
      ]
     },
     "execution_count": 170,
     "metadata": {},
     "output_type": "execute_result"
    }
   ],
   "source": [
    "from scipy.optimize import curve_fit\n",
    "def func(x, a, b, c):\n",
    "    return a * x**b * np.exp(-c * x)\n",
    "def func2(x, a, b):\n",
    "    return a * x**b\n",
    "\n",
    "xdata = edge\n",
    "ydata = hist\n",
    "yerr=err\n",
    "ax = utl.PltErr(xdata, ydata, yerr=yerr, label='data',Plot=False)\n",
    "popt, pcov = curve_fit(func, xdata, ydata,\n",
    "                      bounds=((1e-3,-4,1e-3), (np.infty, 0, 100.0)),\n",
    "                       p0=(1,-1,10.0),\n",
    "                       sigma=err,\n",
    "                      )\n",
    "print(popt)\n",
    "utl.PltErr(xdata, func(xdata, *popt), attrs={'fmt':'r-'},\n",
    "         label='fit: a=%5.3f, b=%5.3f, c=%5.3f' % tuple(popt),\n",
    "        ax=ax,\n",
    "           xscale='log',yscale='log',\n",
    "          )\n",
    "\n"
   ]
  },
  {
   "cell_type": "code",
   "execution_count": 348,
   "id": "7de544e3",
   "metadata": {},
   "outputs": [
    {
     "data": {
      "text/html": [
       "<div>\n",
       "<style scoped>\n",
       "    .dataframe tbody tr th:only-of-type {\n",
       "        vertical-align: middle;\n",
       "    }\n",
       "\n",
       "    .dataframe tbody tr th {\n",
       "        vertical-align: top;\n",
       "    }\n",
       "\n",
       "    .dataframe thead th {\n",
       "        text-align: right;\n",
       "    }\n",
       "</style>\n",
       "<table border=\"1\" class=\"dataframe\">\n",
       "  <thead>\n",
       "    <tr style=\"text-align: right;\">\n",
       "      <th></th>\n",
       "      <th>#grainID</th>\n",
       "      <th>x</th>\n",
       "      <th>y</th>\n",
       "      <th>grainSize</th>\n",
       "      <th>perimeter</th>\n",
       "      <th>boundarySize</th>\n",
       "      <th>numNeighbors</th>\n",
       "    </tr>\n",
       "  </thead>\n",
       "  <tbody>\n",
       "    <tr>\n",
       "      <th>0</th>\n",
       "      <td>1</td>\n",
       "      <td>-0.018954</td>\n",
       "      <td>0.068387</td>\n",
       "      <td>1</td>\n",
       "      <td>3.695012</td>\n",
       "      <td>5</td>\n",
       "      <td>1</td>\n",
       "    </tr>\n",
       "    <tr>\n",
       "      <th>1</th>\n",
       "      <td>2</td>\n",
       "      <td>-85.909030</td>\n",
       "      <td>-0.799994</td>\n",
       "      <td>1</td>\n",
       "      <td>2.771259</td>\n",
       "      <td>6</td>\n",
       "      <td>1</td>\n",
       "    </tr>\n",
       "    <tr>\n",
       "      <th>2</th>\n",
       "      <td>3</td>\n",
       "      <td>-85.909030</td>\n",
       "      <td>-2.399981</td>\n",
       "      <td>1</td>\n",
       "      <td>2.771259</td>\n",
       "      <td>6</td>\n",
       "      <td>2</td>\n",
       "    </tr>\n",
       "    <tr>\n",
       "      <th>3</th>\n",
       "      <td>4</td>\n",
       "      <td>-141.335700</td>\n",
       "      <td>-0.852774</td>\n",
       "      <td>10</td>\n",
       "      <td>13.056300</td>\n",
       "      <td>24</td>\n",
       "      <td>3</td>\n",
       "    </tr>\n",
       "    <tr>\n",
       "      <th>4</th>\n",
       "      <td>5</td>\n",
       "      <td>-85.909030</td>\n",
       "      <td>-3.199974</td>\n",
       "      <td>1</td>\n",
       "      <td>2.771259</td>\n",
       "      <td>6</td>\n",
       "      <td>3</td>\n",
       "    </tr>\n",
       "  </tbody>\n",
       "</table>\n",
       "</div>"
      ],
      "text/plain": [
       "   #grainID           x         y  grainSize  perimeter  boundarySize  \\\n",
       "0         1   -0.018954  0.068387          1   3.695012             5   \n",
       "1         2  -85.909030 -0.799994          1   2.771259             6   \n",
       "2         3  -85.909030 -2.399981          1   2.771259             6   \n",
       "3         4 -141.335700 -0.852774         10  13.056300            24   \n",
       "4         5  -85.909030 -3.199974          1   2.771259             6   \n",
       "\n",
       "   numNeighbors  \n",
       "0             1  \n",
       "1             1  \n",
       "2             2  \n",
       "3             3  \n",
       "4             3  "
      ]
     },
     "execution_count": 348,
     "metadata": {},
     "output_type": "execute_result"
    }
   ],
   "source": [
    "input_file = '/Users/Home/Desktop/Tmp/txt/git/DislocationAvalanches/nanoindentation/ebsd/attributes.txt'\n",
    "grain_attr = pd.read_csv(input_file,sep='\\t')\n",
    "grain_attr.head()"
   ]
  },
  {
   "cell_type": "code",
   "execution_count": 349,
   "id": "05c06800",
   "metadata": {},
   "outputs": [],
   "source": [
    "def Wrapper(index):\n",
    "    #index = 0 #--- file index\n",
    "    ld = loadTimeSeries[ index ] #--- file id\n",
    "    indentLabel = indentLabels[index]\n",
    "\n",
    "    grainLabel = grainLabels[loadID][indentLabel]\n",
    "    print('indent label:%s, grain label:%s'%(indentLabel,grainLabel))\n",
    "\n",
    "    lambdc = 10.0\n",
    "    avlanche = Wrapper_GetAvl(ld,tlo,thi,lambdc)\n",
    "    moment_1st = np.mean(avlanche)\n",
    "    avalanche_sq = avlanche*avlanche\n",
    "    moment_2nd = np.mean(avalanche_sq)**0.5\n",
    "    avalanche_4th = avalanche_sq*avalanche_sq\n",
    "    moment_4th = np.mean(avalanche_4th)**0.25\n",
    "\n",
    "    grainSize = grain_attr[ grain_attr['#grainID'] == grainLabel ].grainSize\n",
    "#    pdb.set_trace()\n",
    "    return grainSize.iloc[0], moment_1st, moment_2nd, moment_4th\n",
    "\n",
    "\n",
    "#val = np.c_[list(map(lambda x:Wrapper(x),range(len(loadTimeSeries))))]\n",
    "# utl.PltErr(utl.Zscore(val[:,0]),utl.Zscore(val[:,1]),\n",
    "#           attrs={'fmt' : '.',\n",
    "#           'markersize':10.0},\n",
    "#             xstr=r'grain size',\n",
    "#             ystr=r'1st moment',\n",
    "#            xlim=(-3,3),\n",
    "#            ylim=(-3,3),\n",
    "#           )\n",
    "\n",
    "# utl.PltErr(utl.Zscore(val[:,0]),utl.Zscore(val[:,2]),\n",
    "#           attrs={'fmt' : '.',\n",
    "#           'markersize':10.0},\n",
    "#             xstr=r'grain size',\n",
    "#             ystr=r'2nd moment',\n",
    "#            xlim=(-3,3),\n",
    "#            ylim=(-3,3),\n",
    "#           )\n",
    "# utl.PltErr(val[:,0],val[:,2],\n",
    "#           attrs={'fmt' : '.',\n",
    "#           'markersize':10.0},\n",
    "#             xstr=r'grain size',\n",
    "#             ystr=r'avalanche size(2nd moment)',\n",
    "#            title='avalancheSize.png'\n",
    "# #           xlim=(-3,3),\n",
    "# #           ylim=(-3,3),\n",
    "#           )\n",
    "\n",
    "# utl.PltErr(utl.Zscore(val[:,0]),utl.Zscore(val[:,3]),\n",
    "#           attrs={'fmt' : '.',\n",
    "#           'markersize':10.0},\n",
    "#             xstr=r'grain size',\n",
    "#             ystr=r'4th moment',\n",
    "#            xlim=(-3,3),\n",
    "#            ylim=(-3,3),\n",
    "#           )\n"
   ]
  }
 ],
 "metadata": {
  "kernelspec": {
   "display_name": "Python [conda env:gnnEnv]",
   "language": "python",
   "name": "conda-env-gnnEnv-py"
  },
  "language_info": {
   "codemirror_mode": {
    "name": "ipython",
    "version": 3
   },
   "file_extension": ".py",
   "mimetype": "text/x-python",
   "name": "python",
   "nbconvert_exporter": "python",
   "pygments_lexer": "ipython3",
   "version": "3.7.13"
  },
  "toc": {
   "base_numbering": 1,
   "nav_menu": {},
   "number_sections": true,
   "sideBar": true,
   "skip_h1_title": false,
   "title_cell": "Table of Contents",
   "title_sidebar": "Contents",
   "toc_cell": false,
   "toc_position": {
    "height": "calc(100% - 180px)",
    "left": "10px",
    "top": "150px",
    "width": "220.6px"
   },
   "toc_section_display": true,
   "toc_window_display": true
  }
 },
 "nbformat": 4,
 "nbformat_minor": 5
}

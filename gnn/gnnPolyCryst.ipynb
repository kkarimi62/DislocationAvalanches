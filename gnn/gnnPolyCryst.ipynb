{
 "cells": [
  {
   "cell_type": "markdown",
   "id": "36d6340b",
   "metadata": {},
   "source": [
    "# Install dependencies locally\n",
    "\n",
    "If you are running this notebook locally (i.e., not through Colaboratory), you will also need to install a few more dependencies. Run the following on the command line to install the graph networks library, as well as a few other dependencies:\n",
    "\n",
    "```\n",
    "pip install graph_nets matplotlib scipy \"tensorflow>=1.15,<2\" \"dm-sonnet<2\" \"tensorflow_probability<0.9\""
   ]
  },
  {
   "cell_type": "code",
   "execution_count": 6,
   "id": "326bab34",
   "metadata": {},
   "outputs": [
    {
     "name": "stdout",
     "output_type": "stream",
     "text": [
      "Skipping installation of Graph Nets library\n"
     ]
    }
   ],
   "source": [
    "install_graph_nets_library = \"No\"  #@param [\"Yes\", \"No\"]\n",
    "\n",
    "if install_graph_nets_library.lower() == \"yes\":\n",
    "  print(\"Installing Graph Nets library and dependencies:\")\n",
    "  print(\"Output message from command:\\n\")\n",
    "  !pip install graph_nets \"dm-sonnet<2\" \"tensorflow_probability<0.9\"\n",
    "else:\n",
    "  print(\"Skipping installation of Graph Nets library\")"
   ]
  },
  {
   "cell_type": "markdown",
   "id": "3adda139",
   "metadata": {},
   "source": [
    "# load libraries"
   ]
  },
  {
   "cell_type": "code",
   "execution_count": 7,
   "id": "c1414d1f",
   "metadata": {},
   "outputs": [
    {
     "data": {
      "text/plain": [
       "['gnn library path', 'python libarary path', 'test data files']"
      ]
     },
     "execution_count": 7,
     "metadata": {},
     "output_type": "execute_result"
    }
   ],
   "source": [
    "import configparser\n",
    "confParser = configparser.ConfigParser()\n",
    "confParser.read('config.ini')\n",
    "confParser.sections()\n"
   ]
  },
  {
   "cell_type": "code",
   "execution_count": 11,
   "id": "e1425d1b",
   "metadata": {},
   "outputs": [],
   "source": [
    "import sys\n",
    "sys.path.append(confParser['gnn library path']['gnnLibDir'])\n",
    "sys.path.append(confParser['python libarary path']['pyLibDir'])\n",
    "import pandas as pd\n",
    "import matplotlib.pyplot as plt\n",
    "import networkx as nx\n",
    "import pdb\n",
    "import utility as utl\n",
    "import warnings\n",
    "warnings.filterwarnings('ignore')\n",
    "import matplotlib\n",
    "matplotlib.rcParams['text.usetex'] = True #--- comment tex stuff!\n",
    "import os\n",
    "import traceback\n",
    "import imp\n",
    "imp.reload(utl)\n",
    "\n",
    "import functools\n",
    "from typing import Any, Dict, Text,Tuple,Optional\n",
    "\n",
    "\n",
    "import enum\n",
    "import pickle\n",
    "#from absl import logging\n",
    "import numpy as np\n",
    "\n",
    "\n",
    "import tensorflow.compat.v1 as tf\n",
    "import tensorflow_probability as tfp\n",
    "\n",
    "import sonnet as snt\n",
    "\n",
    "from graph_nets import graphs\n",
    "from graph_nets import modules as gn_modules\n",
    "from graph_nets import utils_tf\n",
    "from gnn_graphnet_model import *\n",
    "from graph_nets import utils_np\n",
    "\n",
    "from sklearn.preprocessing import StandardScaler\n",
    "from scipy import stats\n"
   ]
  },
  {
   "cell_type": "markdown",
   "id": "1bb6bdaf",
   "metadata": {},
   "source": [
    "# utility funcs"
   ]
  },
  {
   "cell_type": "code",
   "execution_count": 181,
   "id": "0aa4af70",
   "metadata": {},
   "outputs": [],
   "source": [
    "\n",
    "def load_test_data(test_data_file_path,test_data_file_path2nd):\n",
    "    # read the csv file and return the text line list.\n",
    "    test_data_row_list = pd.read_csv(test_data_file_path,sep=',')\n",
    "    test_data_row_list2nd = pd.read_csv(test_data_file_path2nd,sep=',')\n",
    "    print('open and load data from test_data.csv complete.')\n",
    "    return test_data_row_list, test_data_row_list2nd\n",
    "\n",
    "def train_test_split(x,y):\n",
    "    xlo, xhi = x.min(), x.max()\n",
    "    ylo, yhi = y.min(), y.max()\n",
    "    x_copy = np.array(x.copy() - xlo)\n",
    "    y_copy = np.array(y.copy() - ylo)\n",
    "    \n",
    "    return x_copy < 0.7 * (xhi-xlo)\n",
    "\n",
    "    \n",
    "def base_graph( \n",
    "               test_data_file_path, \n",
    "               test_data_file_path2nd,\n",
    "               logtrans=False\n",
    "              ):\n",
    "    \"\"\"\n",
    "    This here loads the data and forms a graph structure. This should be implemented as it is dataset-dependent.\n",
    "    Output should be:\n",
    "        a dict with  globals (dummy), nodes (nodal data in numpy), edges (edge data), receivers (indices of receiving node in int), senders (int)\n",
    "        train_mask   array of size (n_nodes) with bool or 0/1 indicating training nodes\n",
    "        val_mask     same for validation nodes \n",
    "        test_mask    same for testing nodes\n",
    "        target \t     here the array containing the nodal target data\n",
    "        weight\t     if needed, a weight parameter given for the (training) nodes\n",
    "    \"\"\"\n",
    "    \n",
    "    test_data, test_data2nd = load_test_data(test_data_file_path, \n",
    "                                             test_data_file_path2nd\n",
    "                                            )\n",
    "    xp=np.arange(0,1,0.01)\n",
    "    y=test_data['boundarySize'].apply(lambda x:x*xp**2+np.random.normal(size=len(xp)))\n",
    "    y = np.c_[y.to_list()]\n",
    "    \n",
    "    positions = np.c_[test_data[['x','y','perimeter','boundarySize','numNeighbors']]].tolist() \n",
    "    edges = list(map(lambda x:[x],np.array(test_data2nd['misOrientationAngle(deg)'])))\n",
    "    receivers = list(test_data2nd['grain_j_index'].astype(int))\n",
    "    senders = list(test_data2nd['grain_i_index'].astype(int)) \n",
    "    target = list(map(lambda x:list(x),y)) #list(map(lambda x:[x],np.array(test_data['h(Gpa)'])))\n",
    "#    target =  list(map(lambda x:[x],np.array(test_data['h(Gpa)'])))\n",
    "    \n",
    "#     pdb.set_trace()\n",
    "    train_mask = train_test_split(test_data['x'],test_data['y']) #--- change!!!!\n",
    "#    train_mask = np.tile(train_mask, (100, 1)).T\n",
    "    \n",
    "    val_mask = test_mask = ~train_mask\n",
    "    weight = list(np.ones(test_data.shape[0]))\n",
    "#    weight = np.tile(weight, (100, 1)).T\n",
    "\n",
    "    return {\"globals\": [0.0],  \"nodes\": positions, \"edges\": edges,  \n",
    "            \"receivers\": receivers, \"senders\": senders  },\\\n",
    "            train_mask, val_mask, test_mask, target, weight \n",
    "\n",
    "#    return {\"globals\": [0.0],  \"nodes\": nodes_data[:,1:], \"edges\": edges_data[:,2:],  \n",
    "#            \"receivers\": edges_data[:,1].astype(int), \"senders\": edges_data[:,0].astype(int)  }, \n",
    "#            train_mask, val_mask, test_mask, target, weight \n",
    "\n",
    "\n",
    "\n",
    "def create_loss_ops(target_op, output_op, mask, weight=None):\n",
    "    \"\"\"Create supervised loss operations from targets and outputs.\n",
    "\n",
    "    Args:\n",
    "      target_op: The target tf.Tensor.\n",
    "      output_ops: The output graph from the model.\n",
    "\n",
    "    Returns:\n",
    "      loss values (tf.Tensor)\n",
    "    \"\"\"\n",
    "    if weight is None:\n",
    "#         pdb.set_trace()\n",
    "        loss_op = tf.reduce_mean(  (  tf.boolean_mask(output_op.nodes, mask) - tf.boolean_mask(target_op, mask))**2)\n",
    "    else:\n",
    "        loss_op = tf.reduce_mean( tf.boolean_mask(weight, mask)* (  tf.boolean_mask(output_op.nodes, mask) - tf.boolean_mask(target_op, mask))**2)\n",
    "\n",
    "    return loss_op\n",
    "\n",
    "\n",
    "def create_corr_ops(target_op, output_op, mask):\n",
    "    corr_op = tfp.stats.correlation(tf.boolean_mask(target_op, mask), tf.boolean_mask(output_op.nodes, mask))\n",
    "    return corr_op\n",
    "\n",
    "\n"
   ]
  },
  {
   "cell_type": "markdown",
   "id": "f892662c",
   "metadata": {},
   "source": [
    "# Creating graphs"
   ]
  },
  {
   "cell_type": "code",
   "execution_count": 239,
   "id": "a56bf10c",
   "metadata": {
    "scrolled": true
   },
   "outputs": [
    {
     "name": "stdout",
     "output_type": "stream",
     "text": [
      "open and load data from test_data.csv complete.\n",
      "NUM PROCESSING STEPS  3\n",
      "LEARNING RATE  0.01\n",
      "dict_keys(['globals', 'nodes', 'edges', 'receivers', 'senders'])\n",
      "globals\n",
      "nodes\n",
      "edges\n",
      "receivers\n",
      "senders\n"
     ]
    }
   ],
   "source": [
    "#--- set parameters\n",
    "SEED =4441666\n",
    "np.random.seed(SEED)\n",
    "tf.set_random_seed(SEED)\n",
    "#\n",
    "pure_lab='' \n",
    "data_split = None\n",
    "data_split_lab=''\n",
    "#\n",
    "num_processing_steps_tr = 3\n",
    "#--- Data / training parameters.\n",
    "num_training_iterations = 10000 #000#0 #20000\n",
    "learning_rate = 1e-2 #7.5e-6\n",
    "\n",
    "#--- path for csv data files\n",
    "test_data_file_path=confParser['test data files']['test_data_file_path']\n",
    "test_data_file_path2nd=confParser['test data files']['test_data_file_path2nd']\n",
    "\n",
    "\n",
    "#--- graph structure  \n",
    "static_graph_tr, train_mask_np, val_mask_np, test_mask_np,\\\n",
    "target_nodes_np, weight_np = base_graph(test_data_file_path, \n",
    "                                        test_data_file_path2nd,\n",
    "                                        logtrans=data_split)\n",
    "print(\"NUM PROCESSING STEPS \", num_processing_steps_tr)\n",
    "print(\"LEARNING RATE \", learning_rate)\n",
    "print(static_graph_tr.keys())\n",
    "for k in static_graph_tr.keys():\n",
    "    try:\n",
    "        print(k, static_graph_tr[k].shape)\n",
    "    except AttributeError:\n",
    "        print(k)\n",
    "\n",
    "input_graph = utils_tf.data_dicts_to_graphs_tuple([static_graph_tr])\n",
    "graphs_tuple = utils_np.data_dicts_to_graphs_tuple([static_graph_tr])\n",
    "#print(input_graph)\n",
    "\n"
   ]
  },
  {
   "cell_type": "code",
   "execution_count": 75,
   "id": "70d4c7f6",
   "metadata": {},
   "outputs": [],
   "source": [
    "class Finder():\n",
    "    '''\n",
    "    return a list of files in a directory\n",
    "    '''\n",
    "    def __init__(self,path_ld):\n",
    "        self.files = os.listdir(path_ld)\n",
    "\n",
    "    def Get(self,file_index):\n",
    "        return self.files[file_index]\n",
    "    \n",
    "class TestData:\n",
    "    '''\n",
    "    return a feature matrix\n",
    "    '''\n",
    "    ld_curve = {}\n",
    "    \n",
    "    def __init__(self,path_ld,path_gb,verbose=False):\n",
    "        self.path_ld = path_ld #--- ld data\n",
    "        self.path_gb = path_gb #--- grain properties\n",
    "        self.verbose = verbose\n",
    "\n",
    "    def is_included(self,xlo,xhi):\n",
    "        '''\n",
    "        return bool: timeseries includes the range (xlo,xhi) \n",
    "        '''\n",
    "        return self.data[:,0].min() <= xlo and self.data[:,0].max() >=  xhi   \n",
    "            \n",
    "    def Parse(self):\n",
    "        if self.verbose:\n",
    "            print('parsing %s'%(self.path_ld))\n",
    "        self.data    = np.loadtxt( self.path_ld ) #--- load curve\n",
    "        self.grains  = pd.read_csv(self.path_gb ,sep=',')\n",
    "        \n",
    "    def Interp(self,bins):\n",
    "        '''\n",
    "        interpolate on the structured grid bins\n",
    "        '''\n",
    "        self.xsum = np.interp(bins, self.data[:,0], self.data[:,1], left=None, right=None, period=None)\n",
    "        self.edges = bins\n",
    "            \n",
    "    def GetGrainIndex(self):\n",
    "        '''\n",
    "        return grain index and id \n",
    "        '''\n",
    "        GetGrainID = lambda x:x[x.find('ID_')+3:x.find('_LoadID')]\n",
    "        GrainID = GetGrainID(self.path_ld)\n",
    "        filtr = self.grains['#grainID']==float(GrainID)\n",
    "        assert np.any(filtr), 'grainID %s not exist!'%GrainID\n",
    "        return self.grains[filtr].index[0]\n",
    "    \n",
    "    @staticmethod\n",
    "    def Append(GrainIndex,xsum):\n",
    "        '''\n",
    "        append stress timeseries\n",
    "        '''\n",
    "        TestData.ld_curve.setdefault(GrainIndex,[]).append(xsum.copy()) #--- repetative\n",
    "        \n",
    "    @staticmethod\n",
    "    def FeatureMat():\n",
    "        '''\n",
    "        return feature matrix\n",
    "        '''\n",
    "        keys=list(TestData.ld_curve.keys())\n",
    "        keys.sort()\n",
    "        for key,count in zip(keys,range(len(keys))):\n",
    "            ydata=TestData.ld_curve[key][0]\n",
    "            if count == 0:\n",
    "                x_feature = ydata.copy()\n",
    "                continue\n",
    "            x_feature=np.c_[ydata,x_feature]\n",
    "        return x_feature.T"
   ]
  },
  {
   "cell_type": "code",
   "execution_count": 68,
   "id": "1ad89b49",
   "metadata": {},
   "outputs": [
    {
     "data": {
      "image/png": "[encoded data removed]",
      "text/plain": [
       "<Figure size 288x288 with 1 Axes>"
      ]
     },
     "metadata": {
      "needs_background": "light"
     },
     "output_type": "display_data"
    },
    {
     "data": {
      "text/plain": [
       "<AxesSubplot:>"
      ]
     },
     "execution_count": 68,
     "metadata": {},
     "output_type": "execute_result"
    }
   ],
   "source": [
    "symbols=utl.Symbols()\n",
    "\n",
    "finder=Finder(confParser['test data files']['load_depth_path'])\n",
    "finder.Get(0)\n",
    "\n",
    "test_data = TestData(path_ld='%s/%s'%(confParser['test data files']['load_depth_path'],finder.Get(0)),\n",
    "                     path_gb=confParser['test data files']['test_data_file_path'],\n",
    "                    )\n",
    "\n",
    "test_data.Parse()\n",
    "ax=utl.PltErr(test_data.data[:,0],test_data.data[:,1],\n",
    "#                xlim=(0,20),ylim=(0,0.2),\n",
    "               attrs=symbols.GetAttrs(count=0,fmt='.'),\n",
    "              Plot=False,\n",
    "               )\n",
    "test_data.Interp(bins=np.arange(test_data.data[:,0].min(),test_data.data.max(),1.0))\n",
    "utl.PltErr(test_data.edges,test_data.xsum,\n",
    "#                xlim=(0,20),ylim=(0,0.2),\n",
    "               attrs={'fmt':'-.r'},\n",
    "                ax=ax\n",
    "#               attrs=symbols.GetAttrs(fmt='-.r'),\n",
    "            \n",
    "                )"
   ]
  },
  {
   "cell_type": "code",
   "execution_count": 45,
   "id": "7fe4c922",
   "metadata": {
    "scrolled": false
   },
   "outputs": [
    {
     "data": {
      "image/png": "[encoded data removed]",
      "text/plain": [
       "<Figure size 288x288 with 1 Axes>"
      ]
     },
     "metadata": {
      "needs_background": "light"
     },
     "output_type": "display_data"
    }
   ],
   "source": [
    "ax  = utl.PltErr(None,None,Plot=False)\n",
    "for fp,count in zip(finder.files,range(len(finder.files))):\n",
    "    test_data = TestData(path_ld='%s/%s'%(confParser['test data files']['load_depth_path'],fp),\n",
    "                     path_gb=confParser['test data files']['test_data_file_path'],\n",
    "                     verbose=False,\n",
    "                    )\n",
    "    test_data.Parse()\n",
    "    if not test_data.is_included(0.0,100.0):\n",
    "        continue\n",
    "    test_data.Interp(bins=np.arange(0.0,100.0,1.0))\n",
    "    try:\n",
    "        GrainIndex = test_data.GetGrainIndex()\n",
    "    except:\n",
    "        continue\n",
    "    #--- plot\n",
    "    utl.PltErr(test_data.data[:,0],test_data.data[:,1],\n",
    "                attrs=symbols.GetAttrs(count=count%7),\n",
    "               ax=ax,Plot=False,\n",
    "               xlim=(0,100), ylim=(0,2),\n",
    "              \n",
    "              )\n",
    "    TestData.Append(GrainIndex,test_data.xsum)"
   ]
  },
  {
   "cell_type": "markdown",
   "id": "44ce4966",
   "metadata": {},
   "source": [
    "## Visualize \n",
    "### euclidean space"
   ]
  },
  {
   "cell_type": "code",
   "execution_count": 21,
   "id": "a547cc82",
   "metadata": {},
   "outputs": [
    {
     "ename": "IndexError",
     "evalue": "index 1 is out of bounds for axis 1 with size 1",
     "output_type": "error",
     "traceback": [
      "\u001b[0;31m---------------------------------------------------------------------------\u001b[0m",
      "\u001b[0;31mIndexError\u001b[0m                                Traceback (most recent call last)",
      "\u001b[0;32m/tmp/ipykernel_36646/3894309133.py\u001b[0m in \u001b[0;36m<module>\u001b[0;34m\u001b[0m\n\u001b[1;32m      1\u001b[0m plt.plot(np.c_[static_graph_tr['nodes']][train_mask_np][:,0],\n\u001b[0;32m----> 2\u001b[0;31m          \u001b[0mnp\u001b[0m\u001b[0;34m.\u001b[0m\u001b[0mc_\u001b[0m\u001b[0;34m[\u001b[0m\u001b[0mstatic_graph_tr\u001b[0m\u001b[0;34m[\u001b[0m\u001b[0;34m'nodes'\u001b[0m\u001b[0;34m]\u001b[0m\u001b[0;34m]\u001b[0m\u001b[0;34m[\u001b[0m\u001b[0mtrain_mask_np\u001b[0m\u001b[0;34m]\u001b[0m\u001b[0;34m[\u001b[0m\u001b[0;34m:\u001b[0m\u001b[0;34m,\u001b[0m\u001b[0;36m1\u001b[0m\u001b[0;34m]\u001b[0m\u001b[0;34m,\u001b[0m\u001b[0;34m\u001b[0m\u001b[0m\n\u001b[0m\u001b[1;32m      3\u001b[0m          \u001b[0;34m'.'\u001b[0m\u001b[0;34m,\u001b[0m\u001b[0;34m\u001b[0m\u001b[0m\n\u001b[1;32m      4\u001b[0m         \u001b[0mmarkersize\u001b[0m\u001b[0;34m=\u001b[0m\u001b[0;36m10\u001b[0m\u001b[0;34m\u001b[0m\u001b[0m\n\u001b[1;32m      5\u001b[0m         )\n",
      "\u001b[0;31mIndexError\u001b[0m: index 1 is out of bounds for axis 1 with size 1"
     ]
    }
   ],
   "source": [
    "plt.plot(np.c_[static_graph_tr['nodes']][train_mask_np][:,0],\n",
    "         np.c_[static_graph_tr['nodes']][train_mask_np][:,1],\n",
    "         '.',\n",
    "        markersize=10\n",
    "        )\n",
    "for i,j in zip(static_graph_tr['senders'],static_graph_tr['receivers']):\n",
    "    x=[static_graph_tr['nodes'][i][0],static_graph_tr['nodes'][j][0]]\n",
    "    y=[static_graph_tr['nodes'][i][1],static_graph_tr['nodes'][j][1]]\n",
    "    plt.plot(x,y,'-')"
   ]
  },
  {
   "cell_type": "code",
   "execution_count": 161,
   "id": "a0b51ddf",
   "metadata": {},
   "outputs": [],
   "source": [
    "for op in output_ops:\n",
    "    corr_op_tr.append( create_corr_ops(target_nodes, op, train_mask))\n"
   ]
  },
  {
   "cell_type": "code",
   "execution_count": 223,
   "id": "207777de",
   "metadata": {},
   "outputs": [
    {
     "data": {
      "text/plain": [
       "100"
      ]
     },
     "execution_count": 223,
     "metadata": {},
     "output_type": "execute_result"
    }
   ],
   "source": []
  },
  {
   "cell_type": "markdown",
   "id": "52cc186a",
   "metadata": {},
   "source": [
    "# Train"
   ]
  },
  {
   "cell_type": "code",
   "execution_count": 240,
   "id": "4f928d96",
   "metadata": {
    "scrolled": true
   },
   "outputs": [
    {
     "name": "stdout",
     "output_type": "stream",
     "text": [
      "Variable                                                                Shape  Type     Collections                            Device\n",
      "EncodeProcessDecode_36/graph_independent/node_model/node_output/b       100    float32  global_variables, trainable_variables  (legacy)\n",
      "EncodeProcessDecode_36/graph_independent/node_model/node_output/w       8x100  float32  global_variables, trainable_variables  (legacy)\n",
      "MLPGraphIndependent_72/graph_independent/edge_model/layer_norm/beta     8      float32  global_variables, trainable_variables  (legacy)\n",
      "MLPGraphIndependent_72/graph_independent/edge_model/layer_norm/gamma    8      float32  global_variables, trainable_variables  (legacy)\n",
      "MLPGraphIndependent_72/graph_independent/edge_model/mlp/linear_0/b      8      float32  global_variables, trainable_variables  (legacy)\n",
      "MLPGraphIndependent_72/graph_independent/edge_model/mlp/linear_0/w      1x8    float32  global_variables, trainable_variables  (legacy)\n",
      "MLPGraphIndependent_72/graph_independent/edge_model/mlp/linear_1/b      8      float32  global_variables, trainable_variables  (legacy)\n",
      "MLPGraphIndependent_72/graph_independent/edge_model/mlp/linear_1/w      8x8    float32  global_variables, trainable_variables  (legacy)\n",
      "MLPGraphIndependent_72/graph_independent/global_model/layer_norm/beta   32     float32  global_variables, trainable_variables  (legacy)\n",
      "MLPGraphIndependent_72/graph_independent/global_model/layer_norm/gamma  32     float32  global_variables, trainable_variables  (legacy)\n",
      "MLPGraphIndependent_72/graph_independent/global_model/mlp/linear_0/b    32     float32  global_variables, trainable_variables  (legacy)\n",
      "MLPGraphIndependent_72/graph_independent/global_model/mlp/linear_0/w    1x32   float32  global_variables, trainable_variables  (legacy)\n",
      "MLPGraphIndependent_72/graph_independent/global_model/mlp/linear_1/b    32     float32  global_variables, trainable_variables  (legacy)\n",
      "MLPGraphIndependent_72/graph_independent/global_model/mlp/linear_1/w    32x32  float32  global_variables, trainable_variables  (legacy)\n",
      "MLPGraphIndependent_72/graph_independent/node_model/layer_norm/beta     8      float32  global_variables, trainable_variables  (legacy)\n",
      "MLPGraphIndependent_72/graph_independent/node_model/layer_norm/gamma    8      float32  global_variables, trainable_variables  (legacy)\n",
      "MLPGraphIndependent_72/graph_independent/node_model/mlp/linear_0/b      8      float32  global_variables, trainable_variables  (legacy)\n",
      "MLPGraphIndependent_72/graph_independent/node_model/mlp/linear_0/w      5x8    float32  global_variables, trainable_variables  (legacy)\n",
      "MLPGraphIndependent_72/graph_independent/node_model/mlp/linear_1/b      8      float32  global_variables, trainable_variables  (legacy)\n",
      "MLPGraphIndependent_72/graph_independent/node_model/mlp/linear_1/w      8x8    float32  global_variables, trainable_variables  (legacy)\n",
      "MLPGraphIndependent_73/graph_independent/edge_model/layer_norm/beta     8      float32  global_variables, trainable_variables  (legacy)\n",
      "MLPGraphIndependent_73/graph_independent/edge_model/layer_norm/gamma    8      float32  global_variables, trainable_variables  (legacy)\n",
      "MLPGraphIndependent_73/graph_independent/edge_model/mlp/linear_0/b      8      float32  global_variables, trainable_variables  (legacy)\n",
      "MLPGraphIndependent_73/graph_independent/edge_model/mlp/linear_0/w      8x8    float32  global_variables, trainable_variables  (legacy)\n",
      "MLPGraphIndependent_73/graph_independent/edge_model/mlp/linear_1/b      8      float32  global_variables, trainable_variables  (legacy)\n",
      "MLPGraphIndependent_73/graph_independent/edge_model/mlp/linear_1/w      8x8    float32  global_variables, trainable_variables  (legacy)\n",
      "MLPGraphIndependent_73/graph_independent/global_model/layer_norm/beta   32     float32  global_variables, trainable_variables  (legacy)\n",
      "MLPGraphIndependent_73/graph_independent/global_model/layer_norm/gamma  32     float32  global_variables, trainable_variables  (legacy)\n",
      "MLPGraphIndependent_73/graph_independent/global_model/mlp/linear_0/b    32     float32  global_variables, trainable_variables  (legacy)\n",
      "MLPGraphIndependent_73/graph_independent/global_model/mlp/linear_0/w    32x32  float32  global_variables, trainable_variables  (legacy)\n",
      "MLPGraphIndependent_73/graph_independent/global_model/mlp/linear_1/b    32     float32  global_variables, trainable_variables  (legacy)\n",
      "MLPGraphIndependent_73/graph_independent/global_model/mlp/linear_1/w    32x32  float32  global_variables, trainable_variables  (legacy)\n",
      "MLPGraphIndependent_73/graph_independent/node_model/layer_norm/beta     8      float32  global_variables, trainable_variables  (legacy)\n",
      "MLPGraphIndependent_73/graph_independent/node_model/layer_norm/gamma    8      float32  global_variables, trainable_variables  (legacy)\n",
      "MLPGraphIndependent_73/graph_independent/node_model/mlp/linear_0/b      8      float32  global_variables, trainable_variables  (legacy)\n",
      "MLPGraphIndependent_73/graph_independent/node_model/mlp/linear_0/w      8x8    float32  global_variables, trainable_variables  (legacy)\n",
      "MLPGraphIndependent_73/graph_independent/node_model/mlp/linear_1/b      8      float32  global_variables, trainable_variables  (legacy)\n",
      "MLPGraphIndependent_73/graph_independent/node_model/mlp/linear_1/w      8x8    float32  global_variables, trainable_variables  (legacy)\n",
      "MLPGraphNetwork_36/graph_network/edge_block/layer_norm/beta             8      float32  global_variables, trainable_variables  (legacy)\n",
      "MLPGraphNetwork_36/graph_network/edge_block/layer_norm/gamma            8      float32  global_variables, trainable_variables  (legacy)\n",
      "MLPGraphNetwork_36/graph_network/edge_block/mlp/linear_0/b              8      float32  global_variables, trainable_variables  (legacy)\n",
      "MLPGraphNetwork_36/graph_network/edge_block/mlp/linear_0/w              112x8  float32  global_variables, trainable_variables  (legacy)\n",
      "MLPGraphNetwork_36/graph_network/edge_block/mlp/linear_1/b              8      float32  global_variables, trainable_variables  (legacy)\n",
      "MLPGraphNetwork_36/graph_network/edge_block/mlp/linear_1/w              8x8    float32  global_variables, trainable_variables  (legacy)\n",
      "MLPGraphNetwork_36/graph_network/global_block/layer_norm/beta           32     float32  global_variables, trainable_variables  (legacy)\n",
      "MLPGraphNetwork_36/graph_network/global_block/layer_norm/gamma          32     float32  global_variables, trainable_variables  (legacy)\n",
      "MLPGraphNetwork_36/graph_network/global_block/mlp/linear_0/b            32     float32  global_variables, trainable_variables  (legacy)\n",
      "MLPGraphNetwork_36/graph_network/global_block/mlp/linear_0/w            80x32  float32  global_variables, trainable_variables  (legacy)\n",
      "MLPGraphNetwork_36/graph_network/global_block/mlp/linear_1/b            32     float32  global_variables, trainable_variables  (legacy)\n",
      "MLPGraphNetwork_36/graph_network/global_block/mlp/linear_1/w            32x32  float32  global_variables, trainable_variables  (legacy)\n",
      "MLPGraphNetwork_36/graph_network/node_block/layer_norm/beta             8      float32  global_variables, trainable_variables  (legacy)\n",
      "MLPGraphNetwork_36/graph_network/node_block/layer_norm/gamma            8      float32  global_variables, trainable_variables  (legacy)\n",
      "MLPGraphNetwork_36/graph_network/node_block/mlp/linear_0/b              8      float32  global_variables, trainable_variables  (legacy)\n",
      "MLPGraphNetwork_36/graph_network/node_block/mlp/linear_0/w              88x8   float32  global_variables, trainable_variables  (legacy)\n",
      "MLPGraphNetwork_36/graph_network/node_block/mlp/linear_1/b              8      float32  global_variables, trainable_variables  (legacy)\n",
      "MLPGraphNetwork_36/graph_network/node_block/mlp/linear_1/w              8x8    float32  global_variables, trainable_variables  (legacy)\n",
      "MEASURE VALIDATION BY LOSS  True\n",
      "# 00010, training 3705.9082, validation 2821.7776, test 2821.7776\n",
      "# 00020, training 3643.2837, validation 2775.9958, test 2775.9958\n",
      "# 00030, training 3559.7771, validation 2717.2600, test 2717.2600\n",
      "# 00040, training 3457.4465, validation 2647.3977, test 2647.3977\n",
      "# 00050, training 3339.3069, validation 2569.6826, test 2569.6826\n",
      "# 00060, training 3210.2319, validation 2488.7014, test 2488.7014\n",
      "# 00070, training 3076.0107, validation 2409.4873, test 2409.4873\n"
     ]
    },
    {
     "name": "stdout",
     "output_type": "stream",
     "text": [
      "# 00080, training 2942.9673, validation 2337.1851, test 2337.1851\n",
      "# 00090, training 2817.3525, validation 2276.3228, test 2276.3228\n",
      "# 00100, training 2704.3271, validation 2229.7432, test 2229.7432\n",
      "# 00110, training 2607.3315, validation 2198.2668, test 2198.2668\n",
      "# 00120, training 2523.9243, validation 2167.9424, test 2167.9424\n",
      "# 00130, training 2279.2483, validation 1944.7628, test 1944.7628\n",
      "# 00140, training 2019.6093, validation 1734.4303, test 1734.4303\n",
      "# 00150, training 1834.0183, validation 1602.1820, test 1602.1820\n",
      "# 00160, training 1666.0920, validation 1521.5660, test 1521.5660\n",
      "# 00170, training 1517.9542, validation 1403.6624, test 1403.6624\n",
      "# 00180, training 1388.8423, validation 1334.9501, test 1334.9501\n",
      "# 00190, training 1271.2216, validation 1250.1466, test 1250.1466\n",
      "# 00200, training 1172.8441, validation 1166.8798, test 1166.8798\n",
      "# 00210, training 1090.3049, validation 1108.2374, test 1108.2374\n",
      "# 00220, training 1018.3755, validation 1047.0947, test 1047.0947\n",
      "# 00230, training 963.0741, validation 1062.5295, test 1062.5295\n",
      "# 00240, training 918.7178, validation 993.7711, test 993.7711\n",
      "# 00250, training 858.4072, validation 926.0399, test 926.0399\n",
      "# 00260, training 811.6296, validation 933.9965, test 933.9965\n",
      "# 00270, training 778.6520, validation 855.8532, test 855.8532\n",
      "# 00280, training 728.9153, validation 883.4268, test 883.4268\n",
      "# 00290, training 687.4396, validation 939.5087, test 939.5087\n",
      "# 00300, training 650.6819, validation 945.5340, test 945.5340\n",
      "# 00310, training 635.2009, validation 992.8972, test 992.8972\n",
      "# 00320, training 599.1240, validation 995.0802, test 995.0802\n",
      "# 00330, training 592.6241, validation 958.4639, test 958.4639\n",
      "# 00340, training 598.2600, validation 1057.8041, test 1057.8041\n",
      "# 00350, training 555.2919, validation 1091.5173, test 1091.5173\n",
      "# 00360, training 564.3102, validation 942.9911, test 942.9911\n",
      "# 00370, training 522.1406, validation 1017.3244, test 1017.3244\n",
      "# 00380, training 507.4476, validation 939.8340, test 939.8340\n",
      "# 00390, training 500.1295, validation 922.7622, test 922.7622\n",
      "# 00400, training 485.4344, validation 962.6038, test 962.6038\n",
      "# 00410, training 473.2023, validation 1011.0618, test 1011.0618\n",
      "# 00420, training 467.0225, validation 967.9737, test 967.9737\n",
      "# 00430, training 460.5128, validation 1021.9720, test 1021.9720\n",
      "# 00440, training 452.5294, validation 914.4536, test 914.4536\n",
      "# 00450, training 441.3449, validation 967.0674, test 967.0674\n",
      "# 00460, training 433.8922, validation 921.6324, test 921.6324\n",
      "# 00470, training 426.5332, validation 919.3622, test 919.3622\n",
      "# 00480, training 415.3859, validation 906.0805, test 906.0805\n",
      "# 00490, training 406.5533, validation 895.5264, test 895.5264\n",
      "# 00500, training 428.8063, validation 808.3482, test 808.3482\n",
      "# 00510, training 421.4996, validation 821.3957, test 821.3957\n",
      "# 00520, training 398.3448, validation 821.0787, test 821.0787\n",
      "# 00530, training 379.3577, validation 921.3654, test 921.3654\n",
      "# 00540, training 376.0057, validation 779.0410, test 779.0410\n",
      "# 00550, training 361.1672, validation 968.2713, test 968.2713\n",
      "# 00560, training 358.8728, validation 975.7637, test 975.7637\n",
      "# 00570, training 380.2503, validation 831.4219, test 831.4219\n",
      "# 00580, training 353.8249, validation 923.9975, test 923.9975\n",
      "# 00590, training 349.5114, validation 769.1131, test 769.1131\n",
      "# 00600, training 335.8444, validation 797.2583, test 797.2583\n",
      "# 00610, training 326.8093, validation 798.4418, test 798.4418\n",
      "# 00620, training 319.2115, validation 854.2096, test 854.2096\n",
      "# 00630, training 312.5703, validation 927.9714, test 927.9714\n",
      "# 00640, training 330.8025, validation 836.1141, test 836.1141\n",
      "# 00650, training 327.5934, validation 786.5601, test 786.5601\n",
      "# 00660, training 315.9588, validation 718.3445, test 718.3445\n",
      "# 00670, training 308.5619, validation 836.7275, test 836.7275\n",
      "# 00680, training 284.0906, validation 756.1247, test 756.1247\n",
      "# 00690, training 269.6415, validation 711.4758, test 711.4758\n",
      "# 00700, training 280.6581, validation 836.1007, test 836.1007\n",
      "# 00710, training 306.4264, validation 995.7795, test 995.7795\n",
      "# 00720, training 276.1959, validation 817.5654, test 817.5654\n",
      "# 00730, training 258.9669, validation 722.0423, test 722.0423\n",
      "# 00740, training 247.7967, validation 747.3973, test 747.3973\n",
      "# 00750, training 238.8697, validation 670.5150, test 670.5150\n",
      "# 00760, training 275.5503, validation 872.0482, test 872.0482\n",
      "# 00770, training 238.5414, validation 742.4967, test 742.4967\n",
      "# 00780, training 237.5132, validation 858.9988, test 858.9988\n",
      "# 00790, training 232.3124, validation 787.9490, test 787.9490\n",
      "# 00800, training 217.0134, validation 741.8979, test 741.8979\n",
      "# 00810, training 233.5198, validation 803.1627, test 803.1627\n",
      "# 00820, training 216.9020, validation 814.1846, test 814.1846\n",
      "# 00830, training 212.5663, validation 794.5615, test 794.5615\n",
      "# 00840, training 214.7905, validation 693.1153, test 693.1153\n",
      "# 00850, training 202.8531, validation 740.0381, test 740.0381\n",
      "# 00860, training 280.2206, validation 1031.5541, test 1031.5541\n",
      "# 00870, training 231.3904, validation 695.9726, test 695.9726\n",
      "# 00880, training 217.8431, validation 680.2401, test 680.2401\n",
      "# 00890, training 209.6812, validation 663.9720, test 663.9720\n",
      "# 00900, training 197.7236, validation 650.4655, test 650.4655\n",
      "# 00910, training 236.6625, validation 736.9399, test 736.9399\n",
      "# 00920, training 296.8952, validation 691.6392, test 691.6392\n",
      "# 00930, training 272.5739, validation 619.9069, test 619.9069\n",
      "# 00940, training 272.2505, validation 631.4818, test 631.4818\n",
      "# 00950, training 260.7514, validation 705.1671, test 705.1671\n",
      "# 00960, training 254.8383, validation 652.8877, test 652.8877\n",
      "# 00970, training 239.2169, validation 707.4070, test 707.4070\n",
      "# 00980, training 239.6019, validation 727.9579, test 727.9579\n",
      "# 00990, training 234.1281, validation 752.5552, test 752.5552\n",
      "# 01000, training 226.9582, validation 678.9509, test 678.9509\n",
      "# 01010, training 226.1459, validation 885.6372, test 885.6372\n",
      "# 01020, training 208.8786, validation 912.3109, test 912.3109\n",
      "# 01030, training 202.4617, validation 936.9179, test 936.9179\n",
      "# 01040, training 201.1447, validation 896.2422, test 896.2422\n",
      "# 01050, training 195.0650, validation 921.3611, test 921.3611\n",
      "# 01060, training 211.3889, validation 794.0887, test 794.0887\n",
      "# 01070, training 192.2354, validation 971.0546, test 971.0546\n",
      "# 01080, training 200.5461, validation 871.8904, test 871.8904\n",
      "# 01090, training 194.2798, validation 1104.9635, test 1104.9635\n",
      "# 01100, training 186.5019, validation 1071.3202, test 1071.3202\n",
      "# 01110, training 185.6650, validation 913.6805, test 913.6805\n",
      "# 01120, training 176.7669, validation 1029.4071, test 1029.4071\n",
      "# 01130, training 190.9741, validation 1056.3956, test 1056.3956\n",
      "# 01140, training 188.3793, validation 901.3420, test 901.3420\n",
      "# 01150, training 170.4697, validation 1008.8420, test 1008.8420\n",
      "# 01160, training 212.4339, validation 960.1072, test 960.1072\n",
      "# 01170, training 177.7056, validation 1047.7399, test 1047.7399\n",
      "# 01180, training 250.6296, validation 628.9803, test 628.9803\n",
      "# 01190, training 275.5307, validation 474.5384, test 474.5384\n",
      "# 01200, training 271.6563, validation 418.8674, test 418.8674\n",
      "# 01210, training 327.3400, validation 539.3682, test 539.3682\n",
      "# 01220, training 246.3504, validation 505.6886, test 505.6886\n",
      "# 01230, training 231.4573, validation 531.3781, test 531.3781\n",
      "# 01240, training 232.8385, validation 514.1589, test 514.1589\n",
      "# 01250, training 218.4366, validation 522.2814, test 522.2814\n",
      "# 01260, training 273.5017, validation 616.3149, test 616.3149\n",
      "# 01270, training 261.1587, validation 459.5603, test 459.5603\n",
      "# 01280, training 220.4042, validation 446.3747, test 446.3747\n",
      "# 01290, training 213.5216, validation 532.7536, test 532.7536\n",
      "# 01300, training 213.9621, validation 491.3094, test 491.3094\n",
      "# 01310, training 230.4026, validation 457.9485, test 457.9485\n",
      "# 01320, training 186.0074, validation 513.1245, test 513.1245\n",
      "# 01330, training 196.7443, validation 495.5887, test 495.5887\n",
      "# 01340, training 177.2193, validation 534.5272, test 534.5272\n",
      "# 01350, training 183.9629, validation 434.0451, test 434.0451\n",
      "# 01360, training 177.6756, validation 481.2543, test 481.2543\n"
     ]
    },
    {
     "name": "stdout",
     "output_type": "stream",
     "text": [
      "# 01370, training 177.4837, validation 578.5302, test 578.5302\n",
      "# 01380, training 175.0099, validation 580.0735, test 580.0735\n",
      "# 01390, training 187.3567, validation 483.5107, test 483.5107\n",
      "# 01400, training 184.7658, validation 471.1855, test 471.1855\n",
      "# 01410, training 168.9638, validation 506.1921, test 506.1921\n",
      "# 01420, training 162.7313, validation 462.6379, test 462.6379\n",
      "# 01430, training 159.7207, validation 489.4792, test 489.4792\n",
      "# 01440, training 157.9356, validation 426.2059, test 426.2059\n",
      "# 01450, training 157.9842, validation 507.3007, test 507.3007\n",
      "# 01460, training 152.2949, validation 468.4141, test 468.4141\n",
      "# 01470, training 158.0484, validation 501.0559, test 501.0559\n",
      "# 01480, training 158.2624, validation 430.2186, test 430.2186\n",
      "# 01490, training 160.2764, validation 447.6944, test 447.6944\n",
      "# 01500, training 200.3169, validation 439.5681, test 439.5681\n",
      "# 01510, training 170.1480, validation 491.6607, test 491.6607\n",
      "# 01520, training 156.9714, validation 452.8626, test 452.8626\n",
      "# 01530, training 167.4566, validation 433.8348, test 433.8348\n",
      "# 01540, training 149.3472, validation 506.5788, test 506.5788\n",
      "# 01550, training 151.0299, validation 525.6918, test 525.6918\n",
      "# 01560, training 146.3147, validation 460.5913, test 460.5913\n",
      "# 01570, training 159.4805, validation 540.0242, test 540.0242\n",
      "# 01580, training 150.8898, validation 503.6822, test 503.6822\n",
      "# 01590, training 148.9671, validation 525.3447, test 525.3447\n",
      "# 01600, training 142.8293, validation 551.0724, test 551.0724\n",
      "# 01610, training 138.7559, validation 512.6803, test 512.6803\n",
      "# 01620, training 139.5031, validation 526.9983, test 526.9983\n",
      "# 01630, training 136.4061, validation 593.3480, test 593.3480\n",
      "# 01640, training 141.0328, validation 506.2673, test 506.2673\n",
      "# 01650, training 133.7700, validation 546.1569, test 546.1569\n",
      "# 01660, training 133.9395, validation 570.4641, test 570.4641\n",
      "# 01670, training 133.8917, validation 547.7653, test 547.7653\n",
      "# 01680, training 138.1643, validation 550.0658, test 550.0658\n",
      "# 01690, training 137.2450, validation 560.6743, test 560.6743\n",
      "# 01700, training 132.3506, validation 539.7143, test 539.7143\n",
      "# 01710, training 131.6543, validation 566.6477, test 566.6477\n",
      "# 01720, training 146.4395, validation 613.5505, test 613.5505\n",
      "# 01730, training 135.9779, validation 630.3694, test 630.3694\n",
      "# 01740, training 136.1441, validation 606.4162, test 606.4162\n",
      "# 01750, training 138.6370, validation 572.9859, test 572.9859\n",
      "# 01760, training 142.2399, validation 511.5681, test 511.5681\n",
      "# 01770, training 132.4594, validation 503.7755, test 503.7755\n",
      "# 01780, training 130.5386, validation 633.7249, test 633.7249\n",
      "# 01790, training 134.6892, validation 604.1461, test 604.1461\n",
      "# 01800, training 131.9898, validation 609.3845, test 609.3845\n",
      "# 01810, training 174.9644, validation 547.5843, test 547.5843\n",
      "# 01820, training 183.7060, validation 647.6412, test 647.6412\n",
      "# 01830, training 168.3240, validation 393.6371, test 393.6371\n",
      "# 01840, training 138.1847, validation 523.5106, test 523.5106\n",
      "# 01850, training 155.2162, validation 506.2202, test 506.2202\n",
      "# 01860, training 166.5243, validation 505.4703, test 505.4703\n",
      "# 01870, training 227.4197, validation 391.8746, test 391.8746\n",
      "# 01880, training 204.0316, validation 538.8065, test 538.8065\n",
      "# 01890, training 162.1744, validation 546.7243, test 546.7243\n",
      "# 01900, training 143.8506, validation 616.3832, test 616.3832\n",
      "# 01910, training 185.8493, validation 510.7256, test 510.7256\n",
      "# 01920, training 190.8729, validation 536.3384, test 536.3384\n",
      "# 01930, training 180.9694, validation 562.0577, test 562.0577\n",
      "# 01940, training 167.5797, validation 622.2124, test 622.2124\n",
      "# 01950, training 167.3636, validation 465.8656, test 465.8656\n",
      "# 01960, training 163.2468, validation 453.0420, test 453.0420\n",
      "# 01970, training 174.7283, validation 530.6961, test 530.6961\n",
      "# 01980, training 173.7589, validation 510.5574, test 510.5574\n",
      "NO IMPROVEMENT IN 500 STEPS, STOPPING TRAINING...\n",
      "    1 steps:  best val res, r: training 0.9647, validation 0.9377, test 0.9377\n",
      "    2 steps:  best val res, r: training 0.9515, validation 0.9254, test 0.9254\n",
      "    3 steps:  best val res, r: training 0.9690, validation 0.9228, test 0.9228\n"
     ]
    }
   ],
   "source": [
    "train_mask = tf.constant(train_mask_np, dtype=tf.bool)\n",
    "test_mask  = tf.constant(test_mask_np , dtype=tf.bool)\n",
    "val_mask   = tf.constant(val_mask_np  , dtype=tf.bool)\n",
    "\n",
    "target_nodes = tf.constant(target_nodes_np)\n",
    "weight = tf.constant(weight_np)\n",
    "weight = None ##NOTE comment out if weights wanted \n",
    "\n",
    "\n",
    "# Create the model.\n",
    "node_output_size = len(target_nodes_np[0])\n",
    "model = EncodeProcessDecode(node_output_size=node_output_size)\n",
    "#print(model.summary())\n",
    "\n",
    "#--- training base graph\n",
    "output_ops, latent_ops = model(input_graph, num_processing_steps_tr) #[-1]\n",
    "# Training loss.\n",
    "loss_op_tr = []\n",
    "loss_op_va = []\n",
    "loss_op_ts = []\n",
    "corr_op_tr = []\n",
    "corr_op_va = []\n",
    "corr_op_ts = []\n",
    "\n",
    "for op in output_ops:\n",
    "    loss_op_tr.append( create_loss_ops(target_nodes, op, train_mask,weight))\n",
    "    loss_op_va.append( create_loss_ops(target_nodes, op,   val_mask,weight))\n",
    "    loss_op_ts.append( create_loss_ops(target_nodes, op,  test_mask,weight))\n",
    "    corr_op_tr.append( create_corr_ops(target_nodes, op, train_mask))\n",
    "    corr_op_va.append( create_corr_ops(target_nodes, op,   val_mask))\n",
    "    corr_op_ts.append( create_corr_ops(target_nodes, op,  test_mask))\n",
    "\n",
    "# Training loss across processing steps.\n",
    "loss_op_tr_sum = sum(loss_op_tr) / num_processing_steps_tr\n",
    "\n",
    "\n",
    "# Optimizer.\n",
    "optimizer = tf.train.AdamOptimizer(learning_rate)\n",
    "step_op = optimizer.minimize(loss_op_tr_sum)\n",
    "\n",
    "\n",
    "training_history = np.zeros((num_training_iterations, 3*num_processing_steps_tr)) \n",
    "correlat_history = np.zeros((num_training_iterations, 3*num_processing_steps_tr)) \n",
    "counter = 0\n",
    "\n",
    "\n",
    "# This cell resets the Tensorflow session, but keeps the same computational\n",
    "# graph.\n",
    "sess = tf.Session()\n",
    "sess.run(tf.global_variables_initializer())\n",
    "\n",
    "print(snt.format_variables(model.variables))\n",
    "\n",
    "best_corr = np.zeros((num_processing_steps_tr,3))\n",
    "best_val_loss = np.inf\n",
    "best_corr_loss = 0.0\n",
    "best_val_loss_all = np.inf*np.ones(num_processing_steps_tr)\n",
    "best_corr_loss_all = np.zeros(num_processing_steps_tr)\n",
    "last_improved = 0\n",
    "early_stopping_crit = 500\n",
    "\n",
    "\n",
    "measure_val_by_loss= True\n",
    "print(\"MEASURE VALIDATION BY LOSS \", measure_val_by_loss)\n",
    "\n",
    "# #--- training loop\n",
    "for iteration in range(num_training_iterations):\n",
    "    last_iteration = iteration\n",
    "    train_values = sess.run({\n",
    "        \"step\": step_op,\n",
    "        \"loss\": loss_op_tr,\n",
    "        \"outputs\": output_ops,\n",
    "        \"latents\": latent_ops,\n",
    "        \"corr\": corr_op_tr\n",
    "\n",
    "    })\n",
    "    \n",
    "\n",
    "    test_values = sess.run({\n",
    "        \"loss_val\":  loss_op_va,\n",
    "        \"loss_test\": loss_op_ts,\n",
    "            \"corr_val\": corr_op_va,\n",
    "            \"corr_test\": corr_op_ts\n",
    "    })\n",
    "    training_history[counter, 0:num_processing_steps_tr] = train_values['loss']\n",
    "    training_history[counter, num_processing_steps_tr:2*num_processing_steps_tr] = test_values['loss_val']\n",
    "    training_history[counter, 2*num_processing_steps_tr:] = test_values['loss_test']\n",
    "\n",
    "    correlat_history[counter, 0:num_processing_steps_tr] = np.median(train_values['corr'])\n",
    "    correlat_history[counter, num_processing_steps_tr:2*num_processing_steps_tr] = np.median(test_values['corr_val'])\n",
    "    correlat_history[counter, 2*num_processing_steps_tr:] = np.median(test_values['corr_test'])\n",
    "\n",
    "\n",
    "\n",
    "    if (iteration+1) %10==0:\n",
    "        print(\"# {:05d}, training {:.4f}, validation {:.4f}, test {:.4f}\".format(iteration+1,training_history[counter,num_processing_steps_tr-1], training_history[counter,2*num_processing_steps_tr-1],training_history[counter,-1]  ))\n",
    "\n",
    "        for i in range(num_processing_steps_tr):\n",
    "            if measure_val_by_loss:\n",
    "                cond =  (training_history[counter,num_processing_steps_tr+i] < best_val_loss_all[i])\n",
    "                cond_best = (training_history[counter,num_processing_steps_tr+i] < best_val_loss)\n",
    "            else:\n",
    "                cond =  (correlat_history[counter,num_processing_steps_tr+i] > best_corr_loss_all[i])\n",
    "                cond_best = (correlat_history[counter,num_processing_steps_tr+i] > best_corr_loss)\n",
    "            if cond:\n",
    "                step_output =  sess.run(output_ops[i].nodes) # sess.run(output_ops)\t\n",
    "#                 pdb.set_trace()\n",
    "                best_corr[i,0] = stats.pearsonr( step_output[train_mask_np].flatten(),  np.array(target_nodes_np)[train_mask_np].flatten() )[0]\n",
    "                best_corr[i,1] = stats.pearsonr( step_output[val_mask_np].flatten(),   np.array(target_nodes_np)[val_mask_np].flatten() )[0]\n",
    "                best_corr[i,2] = stats.pearsonr( step_output[test_mask_np].flatten(),   np.array(target_nodes_np)[test_mask_np].flatten() )[0]\n",
    "                #print(\"      best val res, r: training {:.4f}, validation {:.4f}, test {:.4f}\".format( best_corr[0], best_corr[1], best_corr[2]  ))\n",
    "                best_val_loss_all[i] = training_history[counter,num_processing_steps_tr+i]\n",
    "                best_corr_loss_all[i] = correlat_history[counter,num_processing_steps_tr+i]\n",
    "                if cond_best:\n",
    "                    best_output = np.copy(step_output)\n",
    "                    best_latent = sess.run(latent_ops[i])\n",
    "                    #print(best_latent.shape)\n",
    "                    best_val_loss = training_history[counter,num_processing_steps_tr+i]\n",
    "                    best_corr_loss = correlat_history[counter,num_processing_steps_tr+i]\n",
    "                    last_improved = counter\n",
    "    counter+=1 \n",
    "    if counter > last_improved + early_stopping_crit:\n",
    "        print('NO IMPROVEMENT IN {} STEPS, STOPPING TRAINING...'.format(int(early_stopping_crit)))\n",
    "        break\n",
    "\n",
    "\n",
    "f_label = \"{}_{}_{}{}\".format(pure_lab, learning_rate,num_processing_steps_tr,data_split_lab)\n",
    "\n",
    "training_history = training_history[:counter]\n",
    "correlat_history = correlat_history[:counter]\n",
    "for i in range(num_processing_steps_tr):\n",
    "    print(\"    {} steps:  best val res, r: training {:.4f}, validation {:.4f}, test {:.4f}\".format(i+1, best_corr[i,0], best_corr[i,1], best_corr[i,2]  ))\n",
    "    latest_output =  sess.run(output_ops[i].nodes) # sess.run(output_ops)\t\n",
    "#     np.savetxt(\"/scratch/work/salmenh1/gnn/training_results_deepmind/graphnet_all_proc_latest_pred_{}_{}.dat\".format(f_label,i+1), latest_output)\n",
    "\n",
    "\n",
    "\n",
    "# np.savetxt(   \"/scratch/work/salmenh1/gnn/training_results_deepmind/graphnet_all_proc_training_history_{}.dat\".format(f_label), training_history)\n",
    "# np.savetxt(\"/scratch/work/salmenh1/gnn/training_results_deepmind/graphnet_all_proc_correlation_history_{}.dat\".format(f_label), correlat_history)\n",
    "# np.savetxt(          \"/scratch/work/salmenh1/gnn/training_results_deepmind/graphnet_all_proc_best_pred_{}.dat\".format(f_label), best_output)\n",
    "# np.save(           \"/scratch/work/salmenh1/gnn/training_results_deepmind/graphnet_all_proc_best_latent_{}.npy\".format(f_label), best_latent)\n"
   ]
  },
  {
   "cell_type": "code",
   "execution_count": 241,
   "id": "4b1e0002",
   "metadata": {},
   "outputs": [
    {
     "data": {
      "image/png": "[encoded data removed]",
      "text/plain": [
       "<Figure size 288x288 with 1 Axes>"
      ]
     },
     "metadata": {
      "needs_background": "light"
     },
     "output_type": "display_data"
    },
    {
     "data": {
      "text/plain": [
       "<AxesSubplot:>"
      ]
     },
     "execution_count": 241,
     "metadata": {},
     "output_type": "execute_result"
    }
   ],
   "source": [
    "utl.PltErr(range(training_history.shape[0]),training_history[:,-1])"
   ]
  },
  {
   "cell_type": "code",
   "execution_count": null,
   "id": "460778e9",
   "metadata": {},
   "outputs": [],
   "source": [
    "with sess.as_default():\n",
    "    print(output_ops[0].receivers.eval().shape)"
   ]
  },
  {
   "cell_type": "code",
   "execution_count": 47,
   "id": "a04b558b",
   "metadata": {},
   "outputs": [
    {
     "data": {
      "image/png": "[encoded data removed]",
      "text/plain": [
       "<Figure size 288x288 with 1 Axes>"
      ]
     },
     "metadata": {
      "needs_background": "light"
     },
     "output_type": "display_data"
    },
    {
     "data": {
      "text/plain": [
       "<AxesSubplot:xlabel='actual', ylabel='predicted'>"
      ]
     },
     "execution_count": 47,
     "metadata": {},
     "output_type": "execute_result"
    }
   ],
   "source": [
    "#ax=utl.PltErr(target_nodes_np,target_nodes_np,attrs={'fmt':'-r'},Plot=False)\n",
    "filtr = [train_mask_np,test_mask_np][0]\n",
    "xmin=np.min([target_nodes_np,best_output])\n",
    "xmax=np.max([target_nodes_np,best_output])\n",
    "utl.PltErr(utl.Zscore(np.array(target_nodes_np)), utl.Zscore(np.array(best_output)),\n",
    "           attrs={'fmt':'.'},\n",
    "#            xlim=(xmin,xmax),\n",
    "#           ylim=(xmin,xmax),\n",
    "           title = 'png/hardness.png',\n",
    "           xstr='actual',\n",
    "           ystr='predicted',\n",
    "#           ax=ax,\n",
    "          )"
   ]
  },
  {
   "cell_type": "code",
   "execution_count": 249,
   "id": "8514e238",
   "metadata": {},
   "outputs": [
    {
     "name": "stdout",
     "output_type": "stream",
     "text": [
      "test set\n"
     ]
    },
    {
     "data": {
      "image/png": "[encoded data removed]",
      "text/plain": [
       "<Figure size 288x288 with 1 Axes>"
      ]
     },
     "metadata": {
      "needs_background": "light"
     },
     "output_type": "display_data"
    },
    {
     "data": {
      "text/plain": [
       "<AxesSubplot:xlabel='actual', ylabel='predicted'>"
      ]
     },
     "execution_count": 249,
     "metadata": {},
     "output_type": "execute_result"
    }
   ],
   "source": [
    "grain_indx=1\n",
    "if train_mask_np[grain_indx]:\n",
    "    print('training set')\n",
    "else:\n",
    "    print('test set')\n",
    "\n",
    "ax=utl.PltErr(range(len(target_nodes_np[grain_indx])),\n",
    "           target_nodes_np[grain_indx], \n",
    "           attrs={'fmt':'.'},\n",
    "            Plot=False\n",
    "             )\n",
    "\n",
    "utl.PltErr(range(len(target_nodes_np[grain_indx])),\n",
    "           best_output[grain_indx],\n",
    "           attrs={'fmt':'-'},\n",
    "#            xlim=(xmin,xmax),\n",
    "#           ylim=(xmin,xmax),\n",
    "#           title = 'png/hardness.png',\n",
    "           xstr='actual',\n",
    "           ystr='predicted',\n",
    "           ax=ax,\n",
    "          )"
   ]
  },
  {
   "cell_type": "code",
   "execution_count": null,
   "id": "a1e552de",
   "metadata": {},
   "outputs": [],
   "source": []
  }
 ],
 "metadata": {
  "kernelspec": {
   "display_name": "Python [conda env:gnnEnv]",
   "language": "python",
   "name": "conda-env-gnnEnv-py"
  },
  "language_info": {
   "codemirror_mode": {
    "name": "ipython",
    "version": 3
   },
   "file_extension": ".py",
   "mimetype": "text/x-python",
   "name": "python",
   "nbconvert_exporter": "python",
   "pygments_lexer": "ipython3",
   "version": "3.7.13"
  },
  "toc": {
   "base_numbering": 1,
   "nav_menu": {},
   "number_sections": true,
   "sideBar": true,
   "skip_h1_title": false,
   "title_cell": "Table of Contents",
   "title_sidebar": "Contents",
   "toc_cell": false,
   "toc_position": {
    "height": "calc(100% - 180px)",
    "left": "10px",
    "top": "150px",
    "width": "565.2px"
   },
   "toc_section_display": true,
   "toc_window_display": true
  }
 },
 "nbformat": 4,
 "nbformat_minor": 5
}

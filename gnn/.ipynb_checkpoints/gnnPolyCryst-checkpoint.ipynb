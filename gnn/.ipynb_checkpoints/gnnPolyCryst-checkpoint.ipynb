{
 "cells": [
  {
   "cell_type": "markdown",
   "id": "36d6340b",
   "metadata": {},
   "source": [
    "# Install dependencies locally\n",
    "\n",
    "If you are running this notebook locally (i.e., not through Colaboratory), you will also need to install a few more dependencies. Run the following on the command line to install the graph networks library, as well as a few other dependencies:\n",
    "\n",
    "```\n",
    "pip install graph_nets matplotlib scipy \"tensorflow>=1.15,<2\" \"dm-sonnet<2\" \"tensorflow_probability<0.9\""
   ]
  },
  {
   "cell_type": "code",
   "execution_count": 1,
   "id": "326bab34",
   "metadata": {},
   "outputs": [
    {
     "name": "stdout",
     "output_type": "stream",
     "text": [
      "Skipping installation of Graph Nets library\n"
     ]
    }
   ],
   "source": [
    "install_graph_nets_library = \"No\"  #@param [\"Yes\", \"No\"]\n",
    "\n",
    "if install_graph_nets_library.lower() == \"yes\":\n",
    "  print(\"Installing Graph Nets library and dependencies:\")\n",
    "  print(\"Output message from command:\\n\")\n",
    "  !pip install graph_nets \"dm-sonnet<2\" \"tensorflow_probability<0.9\"\n",
    "else:\n",
    "  print(\"Skipping installation of Graph Nets library\")"
   ]
  },
  {
   "cell_type": "markdown",
   "id": "3adda139",
   "metadata": {},
   "source": [
    "# load libraries"
   ]
  },
  {
   "cell_type": "code",
   "execution_count": 2,
   "id": "c1414d1f",
   "metadata": {},
   "outputs": [
    {
     "data": {
      "text/plain": [
       "['gnn library path', 'python libarary path', 'test data files']"
      ]
     },
     "execution_count": 2,
     "metadata": {},
     "output_type": "execute_result"
    }
   ],
   "source": [
    "import configparser\n",
    "confParser = configparser.ConfigParser()\n",
    "confParser.read('config.ini')\n",
    "confParser.sections()\n"
   ]
  },
  {
   "cell_type": "code",
   "execution_count": 3,
   "id": "e1425d1b",
   "metadata": {},
   "outputs": [],
   "source": [
    "import sys\n",
    "sys.path.append(confParser['gnn library path']['gnnLibDir'])\n",
    "sys.path.append(confParser['python libarary path']['pyLibDir'])\n",
    "import pandas as pd\n",
    "import matplotlib.pyplot as plt\n",
    "import networkx as nx\n",
    "import pdb\n",
    "import utility as utl\n",
    "import warnings\n",
    "warnings.filterwarnings('ignore')\n",
    "import matplotlib\n",
    "matplotlib.rcParams['text.usetex'] = True #--- comment tex stuff!\n",
    "import os\n",
    "import traceback\n",
    "import imp\n",
    "imp.reload(utl)\n",
    "from scipy.spatial import KDTree\n",
    "\n",
    "import functools\n",
    "from typing import Any, Dict, Text,Tuple,Optional\n",
    "\n",
    "\n",
    "import enum\n",
    "import pickle\n",
    "#from absl import logging\n",
    "import numpy as np\n",
    "\n",
    "\n",
    "import tensorflow.compat.v1 as tf\n",
    "import tensorflow_probability as tfp\n",
    "\n",
    "import sonnet as snt\n",
    "\n",
    "from graph_nets import graphs\n",
    "from graph_nets import modules as gn_modules\n",
    "from graph_nets import utils_tf\n",
    "from gnn_graphnet_model import *\n",
    "from graph_nets import utils_np\n",
    "\n",
    "from sklearn.preprocessing import StandardScaler\n",
    "from scipy import stats\n"
   ]
  },
  {
   "cell_type": "markdown",
   "id": "1bb6bdaf",
   "metadata": {},
   "source": [
    "# utility funcs"
   ]
  },
  {
   "cell_type": "code",
   "execution_count": 114,
   "id": "0aa4af70",
   "metadata": {},
   "outputs": [],
   "source": [
    "class Interpolate:\n",
    "    '''\n",
    "    interpolate using k-nearest neighbors\n",
    "    '''\n",
    "    def __init__(self,cords,val,query_index):\n",
    "\n",
    "        self.query_index = query_index.flatten()\n",
    "        self.query_xy    = cords\n",
    "        self.val = val.copy()\n",
    "\n",
    "    def kdTree(self,k):\n",
    "        dd, ii = tree.query([self.query_xy], k=k)\n",
    "        self.neigh_mat= ii[0] #--- nearest neighbor matrix\n",
    "        \n",
    "    def interpolate(self):\n",
    "        #--- nearest neighbor values\n",
    "        h_mat = np.c_[list(map(lambda x:self.val[x].flatten(),self.neigh_mat))]\n",
    "        assert np.all(list(map(lambda x:np.any(x>0.0),h_mat))), 'increase k!'\n",
    "        #--- filter query points\n",
    "        h_list = list(map(lambda x:x[x>0.0],h_mat[self.query_index]))\n",
    "        assert len(h_list) == h_mat[self.query_index].shape[0]\n",
    "        \n",
    "        #--- average\n",
    "        h_mean = list(map(lambda x: x.mean(), h_list))\n",
    "        query_rows = np.arange(self.query_index.shape[0])[query_index]\n",
    "        self.val[query_rows] = np.c_[h_mean]\n",
    "        \n",
    "        \n",
    "def load_test_data(test_data_file_path,test_data_file_path2nd):\n",
    "    # read the csv file and return the text line list.\n",
    "    test_data_row_list = pd.read_csv(test_data_file_path,sep=',')\n",
    "    test_data_row_list2nd = pd.read_csv(test_data_file_path2nd,sep=',')\n",
    "    print('open and load data from test_data.csv complete.')\n",
    "    return test_data_row_list, test_data_row_list2nd\n",
    "\n",
    "def train_test_split(x,y):\n",
    "    xlo, xhi = x.min(), x.max()\n",
    "    ylo, yhi = y.min(), y.max()\n",
    "    x_copy = np.array(x.copy() - xlo)\n",
    "    y_copy = np.array(y.copy() - ylo)\n",
    "    \n",
    "    return x_copy < 0.7 * (xhi-xlo)\n",
    "\n",
    "    \n",
    "def base_graph( \n",
    "               test_data_file_path, \n",
    "               test_data_file_path2nd,\n",
    "               logtrans=False\n",
    "              ):\n",
    "    \"\"\"\n",
    "    This here loads the data and forms a graph structure. This should be implemented as it is dataset-dependent.\n",
    "    Output should be:\n",
    "        a dict with  globals (dummy), nodes (nodal data in numpy), edges (edge data), receivers (indices of receiving node in int), senders (int)\n",
    "        train_mask   array of size (n_nodes) with bool or 0/1 indicating training nodes\n",
    "        val_mask     same for validation nodes \n",
    "        test_mask    same for testing nodes\n",
    "        target \t     here the array containing the nodal target data\n",
    "        weight\t     if needed, a weight parameter given for the (training) nodes\n",
    "    \"\"\"\n",
    "    \n",
    "    test_data, test_data2nd = load_test_data(test_data_file_path, \n",
    "                                             test_data_file_path2nd\n",
    "                                            )\n",
    "    #--- do interpolation for missing attributes\n",
    "    interp = Interpolate(np.c_[test_data[['x','y']]],\n",
    "                         np.c_[test_data['h(Gpa)']],\n",
    "                         np.c_[test_data['h(Gpa)']==0.0],\n",
    "                               )\n",
    "\n",
    "    interp.kdTree(64) #--- nearest neighbors\n",
    "    interp.interpolate()\n",
    "\n",
    "    #--- update data frame\n",
    "    cols = list(test_data.keys())\n",
    "    cols.remove('h(Gpa)')\n",
    "    test_data = pd.DataFrame(np.c_[test_data[cols],interp.val.flatten()],columns=cols+['h(Gpa)'])\n",
    "\n",
    "    \n",
    "    #--- assignment\n",
    "    positions = np.c_[test_data[['x','y','perimeter','boundarySize','numNeighbors']]].tolist() \n",
    "    edges = list(map(lambda x:[x],np.array(test_data2nd['misOrientationAngle(deg)'])))\n",
    "    receivers = list(test_data2nd['grain_j_index'].astype(int))\n",
    "    senders = list(test_data2nd['grain_i_index'].astype(int)) \n",
    "    #--- target vector\n",
    "    xp=np.arange(0,1,0.01)\n",
    "    y=test_data['boundarySize'].apply(lambda x:x*xp**2+np.random.normal(size=len(xp)))\n",
    "    y = np.c_[y.to_list()]\n",
    "\n",
    "    \n",
    "    target = list(map(lambda x:[x],np.array(1.0/test_data['perimeter'])))\n",
    "    #list(map(lambda x:[x],np.array(test_data['h(Gpa)']))) #list(map(lambda x:list(x),y)) #\n",
    "#    target =  list(map(lambda x:[x],np.array(test_data['h(Gpa)'])))\n",
    "    \n",
    "    train_mask = train_test_split(test_data['x'],test_data['y']) #--- change!!!!\n",
    "#    train_mask = np.tile(train_mask, (100, 1)).T\n",
    "    \n",
    "    val_mask = test_mask = ~train_mask\n",
    "    weight = list(np.ones(test_data.shape[0]))\n",
    "\n",
    "    return {\"globals\": [0.0],  \"nodes\": positions, \"edges\": edges,  \n",
    "            \"receivers\": receivers, \"senders\": senders  },\\\n",
    "            train_mask, val_mask, test_mask, target, weight \n",
    "\n",
    "#    return {\"globals\": [0.0],  \"nodes\": nodes_data[:,1:], \"edges\": edges_data[:,2:],  \n",
    "#            \"receivers\": edges_data[:,1].astype(int), \"senders\": edges_data[:,0].astype(int)  }, \n",
    "#            train_mask, val_mask, test_mask, target, weight \n",
    "\n",
    "\n",
    "\n",
    "def create_loss_ops(target_op, output_op, mask, weight=None):\n",
    "    \"\"\"Create supervised loss operations from targets and outputs.\n",
    "\n",
    "    Args:\n",
    "      target_op: The target tf.Tensor.\n",
    "      output_ops: The output graph from the model.\n",
    "\n",
    "    Returns:\n",
    "      loss values (tf.Tensor)\n",
    "    \"\"\"\n",
    "    if weight is None:\n",
    "#         pdb.set_trace()\n",
    "        loss_op = tf.reduce_mean(  (  tf.boolean_mask(output_op.nodes, mask) - tf.boolean_mask(target_op, mask))**2)\n",
    "    else:\n",
    "        loss_op = tf.reduce_mean( tf.boolean_mask(weight, mask)* (  tf.boolean_mask(output_op.nodes, mask) - tf.boolean_mask(target_op, mask))**2)\n",
    "\n",
    "    return loss_op\n",
    "\n",
    "\n",
    "def create_corr_ops(target_op, output_op, mask):\n",
    "    corr_op = tfp.stats.correlation(tf.boolean_mask(target_op, mask), tf.boolean_mask(output_op.nodes, mask))\n",
    "    return corr_op\n",
    "\n",
    "\n"
   ]
  },
  {
   "cell_type": "markdown",
   "id": "f892662c",
   "metadata": {},
   "source": [
    "# Creating graphs"
   ]
  },
  {
   "cell_type": "code",
   "execution_count": 115,
   "id": "a56bf10c",
   "metadata": {
    "scrolled": true
   },
   "outputs": [
    {
     "name": "stdout",
     "output_type": "stream",
     "text": [
      "open and load data from test_data.csv complete.\n",
      "NUM PROCESSING STEPS  3\n",
      "LEARNING RATE  0.01\n",
      "dict_keys(['globals', 'nodes', 'edges', 'receivers', 'senders'])\n",
      "globals\n",
      "nodes\n",
      "edges\n",
      "receivers\n",
      "senders\n"
     ]
    }
   ],
   "source": [
    "#--- set parameters\n",
    "SEED =4441666\n",
    "np.random.seed(SEED)\n",
    "tf.set_random_seed(SEED)\n",
    "#\n",
    "pure_lab='' \n",
    "data_split = None\n",
    "data_split_lab=''\n",
    "#\n",
    "num_processing_steps_tr = 3\n",
    "#--- Data / training parameters.\n",
    "num_training_iterations = 10000 #000#0 #20000\n",
    "learning_rate = 1e-2 #7.5e-6\n",
    "\n",
    "#--- path for csv data files\n",
    "test_data_file_path=confParser['test data files']['test_data_file_path']\n",
    "test_data_file_path2nd=confParser['test data files']['test_data_file_path2nd']\n",
    "\n",
    "\n",
    "#--- graph structure  \n",
    "static_graph_tr, train_mask_np, val_mask_np, test_mask_np,\\\n",
    "target_nodes_np, weight_np = base_graph(test_data_file_path, \n",
    "                                        test_data_file_path2nd,\n",
    "                                        logtrans=data_split)\n",
    "print(\"NUM PROCESSING STEPS \", num_processing_steps_tr)\n",
    "print(\"LEARNING RATE \", learning_rate)\n",
    "print(static_graph_tr.keys())\n",
    "for k in static_graph_tr.keys():\n",
    "    try:\n",
    "        print(k, static_graph_tr[k].shape)\n",
    "    except AttributeError:\n",
    "        print(k)\n",
    "\n",
    "input_graph = utils_tf.data_dicts_to_graphs_tuple([static_graph_tr])\n",
    "graphs_tuple = utils_np.data_dicts_to_graphs_tuple([static_graph_tr])\n",
    "#print(input_graph)\n",
    "\n"
   ]
  },
  {
   "cell_type": "code",
   "execution_count": 110,
   "id": "70d4c7f6",
   "metadata": {},
   "outputs": [],
   "source": [
    "class Finder():\n",
    "    '''\n",
    "    return a list of files in a directory\n",
    "    '''\n",
    "    def __init__(self,path_ld):\n",
    "        self.files = os.listdir(path_ld)\n",
    "\n",
    "    def Get(self,file_index):\n",
    "        return self.files[file_index]\n",
    "    \n",
    "class TestData:\n",
    "    '''\n",
    "    return the feature matrix\n",
    "    '''\n",
    "    ld_curve = {}\n",
    "    \n",
    "    def __init__(self,path_ld,path_gb,verbose=False):\n",
    "        self.path_ld = path_ld #--- ld data\n",
    "        self.path_gb = path_gb #--- grain properties\n",
    "        self.verbose = verbose\n",
    "\n",
    "    def is_included(self,xlo,xhi):\n",
    "        '''\n",
    "        return bool: timeseries includes the range (xlo,xhi) \n",
    "        '''\n",
    "        return self.data[:,0].min() <= xlo and self.data[:,0].max() >=  xhi   \n",
    "            \n",
    "    def Parse(self):\n",
    "        if self.verbose:\n",
    "            print('parsing %s'%(self.path_ld))\n",
    "        self.data    = np.loadtxt( self.path_ld ) #--- load curve\n",
    "        self.grains  = pd.read_csv(self.path_gb ,sep=',')\n",
    "        \n",
    "    def Interp(self,bins):\n",
    "        '''\n",
    "        interpolate on the structured grid bins\n",
    "        '''\n",
    "        self.xsum = np.interp(bins, self.data[:,0], self.data[:,1], left=None, right=None, period=None)\n",
    "        self.edges = bins\n",
    "            \n",
    "    def GetGrainIndex(self):\n",
    "        '''\n",
    "        return grain index and id \n",
    "        '''\n",
    "        GetGrainID = lambda x:x[x.find('ID_')+3:x.find('_LoadID')]\n",
    "        GrainID = GetGrainID(self.path_ld)\n",
    "        filtr = self.grains['#grainID']==float(GrainID)\n",
    "        assert np.any(filtr), 'grainID %s not exist!'%GrainID\n",
    "        return self.grains[filtr].index[0]\n",
    "    \n",
    "    @staticmethod\n",
    "    def Append(GrainIndex,xsum):\n",
    "        '''\n",
    "        append stress timeseries\n",
    "        '''\n",
    "        TestData.ld_curve.setdefault(GrainIndex,[]).append(xsum.copy()) #--- repetative\n",
    "        \n",
    "    @staticmethod\n",
    "    def FeatureMat():\n",
    "        '''\n",
    "        return feature matrix\n",
    "        '''\n",
    "        keys=list(TestData.ld_curve.keys())\n",
    "        keys.sort()\n",
    "        for key,count in zip(keys,range(len(keys))):\n",
    "            ydata=TestData.ld_curve[key][0]\n",
    "            if count == 0:\n",
    "                x_feature = ydata.copy()\n",
    "                continue\n",
    "            x_feature=np.c_[ydata,x_feature]\n",
    "        return x_feature.T"
   ]
  },
  {
   "cell_type": "markdown",
   "id": "981a23c0",
   "metadata": {},
   "source": [
    "## target data"
   ]
  },
  {
   "cell_type": "code",
   "execution_count": 68,
   "id": "1ad89b49",
   "metadata": {},
   "outputs": [
    {
     "data": {
      "image/png": "[encoded data removed]",
      "text/plain": [
       "<Figure size 288x288 with 1 Axes>"
      ]
     },
     "metadata": {
      "needs_background": "light"
     },
     "output_type": "display_data"
    },
    {
     "data": {
      "text/plain": [
       "<AxesSubplot:>"
      ]
     },
     "execution_count": 68,
     "metadata": {},
     "output_type": "execute_result"
    }
   ],
   "source": [
    "symbols=utl.Symbols()\n",
    "\n",
    "finder=Finder(confParser['test data files']['load_depth_path'])\n",
    "finder.Get(0)\n",
    "\n",
    "#--- parse load curve\n",
    "test_data = TestData(path_ld='%s/%s'%(confParser['test data files']['load_depth_path'],finder.Get(0)),\n",
    "                     path_gb=confParser['test data files']['test_data_file_path'],\n",
    "                    )\n",
    "\n",
    "test_data.Parse()\n",
    "ax=utl.PltErr(test_data.data[:,0],test_data.data[:,1],\n",
    "#                xlim=(0,20),ylim=(0,0.2),\n",
    "               attrs=symbols.GetAttrs(count=0,fmt='.'),\n",
    "              Plot=False,\n",
    "               )\n",
    "test_data.Interp(bins=np.arange(test_data.data[:,0].min(),test_data.data.max(),1.0))\n",
    "utl.PltErr(test_data.edges,test_data.xsum,\n",
    "#                xlim=(0,20),ylim=(0,0.2),\n",
    "               attrs={'fmt':'-.r'},\n",
    "                ax=ax\n",
    "#               attrs=symbols.GetAttrs(fmt='-.r'),\n",
    "            \n",
    "                )"
   ]
  },
  {
   "cell_type": "code",
   "execution_count": 45,
   "id": "7fe4c922",
   "metadata": {
    "scrolled": false
   },
   "outputs": [
    {
     "data": {
      "image/png": "[encoded data removed]",
      "text/plain": [
       "<Figure size 288x288 with 1 Axes>"
      ]
     },
     "metadata": {
      "needs_background": "light"
     },
     "output_type": "display_data"
    }
   ],
   "source": [
    "ax  = utl.PltErr(None,None,Plot=False)\n",
    "for fp,count in zip(finder.files,range(len(finder.files))): #--- loop over indented grains\n",
    "    test_data = TestData(path_ld='%s/%s'%(confParser['test data files']['load_depth_path'],fp),\n",
    "                     path_gb=confParser['test data files']['test_data_file_path'],\n",
    "                     verbose=False,\n",
    "                    )\n",
    "    test_data.Parse()\n",
    "    if not test_data.is_included(0.0,100.0): #--- ld curve includes this range\n",
    "        continue\n",
    "    test_data.Interp(bins=np.arange(0.0,100.0,1.0)) #--- interpolate\n",
    "    try:\n",
    "        GrainIndex = test_data.GetGrainIndex()\n",
    "    except:\n",
    "        continue\n",
    "    #--- plot\n",
    "    utl.PltErr(test_data.data[:,0],test_data.data[:,1],\n",
    "                attrs=symbols.GetAttrs(count=count%7),\n",
    "               ax=ax,Plot=False,\n",
    "               xlim=(0,100), ylim=(0,2),\n",
    "              \n",
    "              )\n",
    "    TestData.Append(GrainIndex,test_data.xsum) #--- assemble feature matrix"
   ]
  },
  {
   "cell_type": "markdown",
   "id": "44ce4966",
   "metadata": {},
   "source": [
    "## Visualize \n",
    "### euclidean space"
   ]
  },
  {
   "cell_type": "code",
   "execution_count": 21,
   "id": "a547cc82",
   "metadata": {},
   "outputs": [
    {
     "ename": "IndexError",
     "evalue": "index 1 is out of bounds for axis 1 with size 1",
     "output_type": "error",
     "traceback": [
      "\u001b[0;31m---------------------------------------------------------------------------\u001b[0m",
      "\u001b[0;31mIndexError\u001b[0m                                Traceback (most recent call last)",
      "\u001b[0;32m/tmp/ipykernel_36646/3894309133.py\u001b[0m in \u001b[0;36m<module>\u001b[0;34m\u001b[0m\n\u001b[1;32m      1\u001b[0m plt.plot(np.c_[static_graph_tr['nodes']][train_mask_np][:,0],\n\u001b[0;32m----> 2\u001b[0;31m          \u001b[0mnp\u001b[0m\u001b[0;34m.\u001b[0m\u001b[0mc_\u001b[0m\u001b[0;34m[\u001b[0m\u001b[0mstatic_graph_tr\u001b[0m\u001b[0;34m[\u001b[0m\u001b[0;34m'nodes'\u001b[0m\u001b[0;34m]\u001b[0m\u001b[0;34m]\u001b[0m\u001b[0;34m[\u001b[0m\u001b[0mtrain_mask_np\u001b[0m\u001b[0;34m]\u001b[0m\u001b[0;34m[\u001b[0m\u001b[0;34m:\u001b[0m\u001b[0;34m,\u001b[0m\u001b[0;36m1\u001b[0m\u001b[0;34m]\u001b[0m\u001b[0;34m,\u001b[0m\u001b[0;34m\u001b[0m\u001b[0m\n\u001b[0m\u001b[1;32m      3\u001b[0m          \u001b[0;34m'.'\u001b[0m\u001b[0;34m,\u001b[0m\u001b[0;34m\u001b[0m\u001b[0m\n\u001b[1;32m      4\u001b[0m         \u001b[0mmarkersize\u001b[0m\u001b[0;34m=\u001b[0m\u001b[0;36m10\u001b[0m\u001b[0;34m\u001b[0m\u001b[0m\n\u001b[1;32m      5\u001b[0m         )\n",
      "\u001b[0;31mIndexError\u001b[0m: index 1 is out of bounds for axis 1 with size 1"
     ]
    }
   ],
   "source": [
    "plt.plot(np.c_[static_graph_tr['nodes']][train_mask_np][:,0],\n",
    "         np.c_[static_graph_tr['nodes']][train_mask_np][:,1],\n",
    "         '.',\n",
    "        markersize=10\n",
    "        )\n",
    "for i,j in zip(static_graph_tr['senders'],static_graph_tr['receivers']):\n",
    "    x=[static_graph_tr['nodes'][i][0],static_graph_tr['nodes'][j][0]]\n",
    "    y=[static_graph_tr['nodes'][i][1],static_graph_tr['nodes'][j][1]]\n",
    "    plt.plot(x,y,'-')"
   ]
  },
  {
   "cell_type": "code",
   "execution_count": 161,
   "id": "a0b51ddf",
   "metadata": {},
   "outputs": [],
   "source": [
    "# for op in output_ops:\n",
    "#     corr_op_tr.append( create_corr_ops(target_nodes, op, train_mask))\n"
   ]
  },
  {
   "cell_type": "markdown",
   "id": "52cc186a",
   "metadata": {},
   "source": [
    "# Train"
   ]
  },
  {
   "cell_type": "code",
   "execution_count": 116,
   "id": "4f928d96",
   "metadata": {
    "scrolled": false
   },
   "outputs": [
    {
     "name": "stdout",
     "output_type": "stream",
     "text": [
      "Variable                                                               Shape  Type     Collections                            Device\n",
      "EncodeProcessDecode_2/graph_independent/node_model/node_output/b       1      float32  global_variables, trainable_variables  (legacy)\n",
      "EncodeProcessDecode_2/graph_independent/node_model/node_output/w       8x1    float32  global_variables, trainable_variables  (legacy)\n",
      "MLPGraphIndependent_4/graph_independent/edge_model/layer_norm/beta     8      float32  global_variables, trainable_variables  (legacy)\n",
      "MLPGraphIndependent_4/graph_independent/edge_model/layer_norm/gamma    8      float32  global_variables, trainable_variables  (legacy)\n",
      "MLPGraphIndependent_4/graph_independent/edge_model/mlp/linear_0/b      8      float32  global_variables, trainable_variables  (legacy)\n",
      "MLPGraphIndependent_4/graph_independent/edge_model/mlp/linear_0/w      1x8    float32  global_variables, trainable_variables  (legacy)\n",
      "MLPGraphIndependent_4/graph_independent/edge_model/mlp/linear_1/b      8      float32  global_variables, trainable_variables  (legacy)\n",
      "MLPGraphIndependent_4/graph_independent/edge_model/mlp/linear_1/w      8x8    float32  global_variables, trainable_variables  (legacy)\n",
      "MLPGraphIndependent_4/graph_independent/global_model/layer_norm/beta   32     float32  global_variables, trainable_variables  (legacy)\n",
      "MLPGraphIndependent_4/graph_independent/global_model/layer_norm/gamma  32     float32  global_variables, trainable_variables  (legacy)\n",
      "MLPGraphIndependent_4/graph_independent/global_model/mlp/linear_0/b    32     float32  global_variables, trainable_variables  (legacy)\n",
      "MLPGraphIndependent_4/graph_independent/global_model/mlp/linear_0/w    1x32   float32  global_variables, trainable_variables  (legacy)\n",
      "MLPGraphIndependent_4/graph_independent/global_model/mlp/linear_1/b    32     float32  global_variables, trainable_variables  (legacy)\n",
      "MLPGraphIndependent_4/graph_independent/global_model/mlp/linear_1/w    32x32  float32  global_variables, trainable_variables  (legacy)\n",
      "MLPGraphIndependent_4/graph_independent/node_model/layer_norm/beta     8      float32  global_variables, trainable_variables  (legacy)\n",
      "MLPGraphIndependent_4/graph_independent/node_model/layer_norm/gamma    8      float32  global_variables, trainable_variables  (legacy)\n",
      "MLPGraphIndependent_4/graph_independent/node_model/mlp/linear_0/b      8      float32  global_variables, trainable_variables  (legacy)\n",
      "MLPGraphIndependent_4/graph_independent/node_model/mlp/linear_0/w      5x8    float32  global_variables, trainable_variables  (legacy)\n",
      "MLPGraphIndependent_4/graph_independent/node_model/mlp/linear_1/b      8      float32  global_variables, trainable_variables  (legacy)\n",
      "MLPGraphIndependent_4/graph_independent/node_model/mlp/linear_1/w      8x8    float32  global_variables, trainable_variables  (legacy)\n",
      "MLPGraphIndependent_5/graph_independent/edge_model/layer_norm/beta     8      float32  global_variables, trainable_variables  (legacy)\n",
      "MLPGraphIndependent_5/graph_independent/edge_model/layer_norm/gamma    8      float32  global_variables, trainable_variables  (legacy)\n",
      "MLPGraphIndependent_5/graph_independent/edge_model/mlp/linear_0/b      8      float32  global_variables, trainable_variables  (legacy)\n",
      "MLPGraphIndependent_5/graph_independent/edge_model/mlp/linear_0/w      8x8    float32  global_variables, trainable_variables  (legacy)\n",
      "MLPGraphIndependent_5/graph_independent/edge_model/mlp/linear_1/b      8      float32  global_variables, trainable_variables  (legacy)\n",
      "MLPGraphIndependent_5/graph_independent/edge_model/mlp/linear_1/w      8x8    float32  global_variables, trainable_variables  (legacy)\n",
      "MLPGraphIndependent_5/graph_independent/global_model/layer_norm/beta   32     float32  global_variables, trainable_variables  (legacy)\n",
      "MLPGraphIndependent_5/graph_independent/global_model/layer_norm/gamma  32     float32  global_variables, trainable_variables  (legacy)\n",
      "MLPGraphIndependent_5/graph_independent/global_model/mlp/linear_0/b    32     float32  global_variables, trainable_variables  (legacy)\n",
      "MLPGraphIndependent_5/graph_independent/global_model/mlp/linear_0/w    32x32  float32  global_variables, trainable_variables  (legacy)\n",
      "MLPGraphIndependent_5/graph_independent/global_model/mlp/linear_1/b    32     float32  global_variables, trainable_variables  (legacy)\n",
      "MLPGraphIndependent_5/graph_independent/global_model/mlp/linear_1/w    32x32  float32  global_variables, trainable_variables  (legacy)\n",
      "MLPGraphIndependent_5/graph_independent/node_model/layer_norm/beta     8      float32  global_variables, trainable_variables  (legacy)\n",
      "MLPGraphIndependent_5/graph_independent/node_model/layer_norm/gamma    8      float32  global_variables, trainable_variables  (legacy)\n",
      "MLPGraphIndependent_5/graph_independent/node_model/mlp/linear_0/b      8      float32  global_variables, trainable_variables  (legacy)\n",
      "MLPGraphIndependent_5/graph_independent/node_model/mlp/linear_0/w      8x8    float32  global_variables, trainable_variables  (legacy)\n",
      "MLPGraphIndependent_5/graph_independent/node_model/mlp/linear_1/b      8      float32  global_variables, trainable_variables  (legacy)\n",
      "MLPGraphIndependent_5/graph_independent/node_model/mlp/linear_1/w      8x8    float32  global_variables, trainable_variables  (legacy)\n",
      "MLPGraphNetwork_2/graph_network/edge_block/layer_norm/beta             8      float32  global_variables, trainable_variables  (legacy)\n",
      "MLPGraphNetwork_2/graph_network/edge_block/layer_norm/gamma            8      float32  global_variables, trainable_variables  (legacy)\n",
      "MLPGraphNetwork_2/graph_network/edge_block/mlp/linear_0/b              8      float32  global_variables, trainable_variables  (legacy)\n",
      "MLPGraphNetwork_2/graph_network/edge_block/mlp/linear_0/w              112x8  float32  global_variables, trainable_variables  (legacy)\n",
      "MLPGraphNetwork_2/graph_network/edge_block/mlp/linear_1/b              8      float32  global_variables, trainable_variables  (legacy)\n",
      "MLPGraphNetwork_2/graph_network/edge_block/mlp/linear_1/w              8x8    float32  global_variables, trainable_variables  (legacy)\n",
      "MLPGraphNetwork_2/graph_network/global_block/layer_norm/beta           32     float32  global_variables, trainable_variables  (legacy)\n",
      "MLPGraphNetwork_2/graph_network/global_block/layer_norm/gamma          32     float32  global_variables, trainable_variables  (legacy)\n",
      "MLPGraphNetwork_2/graph_network/global_block/mlp/linear_0/b            32     float32  global_variables, trainable_variables  (legacy)\n",
      "MLPGraphNetwork_2/graph_network/global_block/mlp/linear_0/w            80x32  float32  global_variables, trainable_variables  (legacy)\n",
      "MLPGraphNetwork_2/graph_network/global_block/mlp/linear_1/b            32     float32  global_variables, trainable_variables  (legacy)\n",
      "MLPGraphNetwork_2/graph_network/global_block/mlp/linear_1/w            32x32  float32  global_variables, trainable_variables  (legacy)\n",
      "MLPGraphNetwork_2/graph_network/node_block/layer_norm/beta             8      float32  global_variables, trainable_variables  (legacy)\n",
      "MLPGraphNetwork_2/graph_network/node_block/layer_norm/gamma            8      float32  global_variables, trainable_variables  (legacy)\n",
      "MLPGraphNetwork_2/graph_network/node_block/mlp/linear_0/b              8      float32  global_variables, trainable_variables  (legacy)\n",
      "MLPGraphNetwork_2/graph_network/node_block/mlp/linear_0/w              88x8   float32  global_variables, trainable_variables  (legacy)\n",
      "MLPGraphNetwork_2/graph_network/node_block/mlp/linear_1/b              8      float32  global_variables, trainable_variables  (legacy)\n",
      "MLPGraphNetwork_2/graph_network/node_block/mlp/linear_1/w              8x8    float32  global_variables, trainable_variables  (legacy)\n",
      "MEASURE VALIDATION BY LOSS  True\n",
      "# 00010, training 0.0248, validation 0.0245, test 0.0245\n",
      "# 00020, training 0.0287, validation 0.0483, test 0.0483\n",
      "# 00030, training 0.0259, validation 0.0278, test 0.0278\n",
      "# 00040, training 0.0237, validation 0.0350, test 0.0350\n",
      "# 00050, training 0.0219, validation 0.0282, test 0.0282\n",
      "# 00060, training 0.0198, validation 0.0271, test 0.0271\n",
      "# 00070, training 0.0172, validation 0.0253, test 0.0253\n",
      "# 00080, training 0.0139, validation 0.0211, test 0.0211\n",
      "# 00090, training 0.0140, validation 0.0223, test 0.0223\n"
     ]
    },
    {
     "name": "stdout",
     "output_type": "stream",
     "text": [
      "# 00100, training 0.0129, validation 0.0226, test 0.0226\n",
      "# 00110, training 0.0127, validation 0.0215, test 0.0215\n",
      "# 00120, training 0.0123, validation 0.0206, test 0.0206\n",
      "# 00130, training 0.0121, validation 0.0200, test 0.0200\n",
      "# 00140, training 0.0120, validation 0.0196, test 0.0196\n",
      "# 00150, training 0.0118, validation 0.0193, test 0.0193\n",
      "# 00160, training 0.0116, validation 0.0186, test 0.0186\n",
      "# 00170, training 0.0115, validation 0.0184, test 0.0184\n",
      "# 00180, training 0.0114, validation 0.0181, test 0.0181\n",
      "# 00190, training 0.0113, validation 0.0178, test 0.0178\n",
      "# 00200, training 0.0112, validation 0.0175, test 0.0175\n",
      "# 00210, training 0.0111, validation 0.0171, test 0.0171\n",
      "# 00220, training 0.0109, validation 0.0166, test 0.0166\n",
      "# 00230, training 0.0107, validation 0.0161, test 0.0161\n",
      "# 00240, training 0.0106, validation 0.0156, test 0.0156\n",
      "# 00250, training 0.0104, validation 0.0151, test 0.0151\n",
      "# 00260, training 0.0103, validation 0.0146, test 0.0146\n",
      "# 00270, training 0.0101, validation 0.0143, test 0.0143\n",
      "# 00280, training 0.0100, validation 0.0139, test 0.0139\n",
      "# 00290, training 0.0098, validation 0.0133, test 0.0133\n",
      "# 00300, training 0.0092, validation 0.0124, test 0.0124\n",
      "# 00310, training 0.0084, validation 0.0109, test 0.0109\n",
      "# 00320, training 0.0055, validation 0.0179, test 0.0179\n",
      "# 00330, training 0.0027, validation 0.0216, test 0.0216\n",
      "# 00340, training 0.0021, validation 0.0435, test 0.0435\n",
      "# 00350, training 0.0015, validation 0.0336, test 0.0336\n",
      "# 00360, training 0.0012, validation 0.0318, test 0.0318\n",
      "# 00370, training 0.0012, validation 0.0234, test 0.0234\n",
      "# 00380, training 0.0011, validation 0.0238, test 0.0238\n",
      "# 00390, training 0.0010, validation 0.0182, test 0.0182\n",
      "# 00400, training 0.0010, validation 0.0200, test 0.0200\n",
      "# 00410, training 0.0010, validation 0.0185, test 0.0185\n",
      "# 00420, training 0.0010, validation 0.0188, test 0.0188\n",
      "# 00430, training 0.0010, validation 0.0182, test 0.0182\n",
      "# 00440, training 0.0009, validation 0.0180, test 0.0180\n",
      "# 00450, training 0.0009, validation 0.0173, test 0.0173\n",
      "# 00460, training 0.0009, validation 0.0169, test 0.0169\n",
      "# 00470, training 0.0009, validation 0.0165, test 0.0165\n",
      "# 00480, training 0.0009, validation 0.0161, test 0.0161\n",
      "# 00490, training 0.0009, validation 0.0156, test 0.0156\n",
      "# 00500, training 0.0008, validation 0.0150, test 0.0150\n",
      "# 00510, training 0.0008, validation 0.0143, test 0.0143\n",
      "# 00520, training 0.0008, validation 0.0140, test 0.0140\n",
      "# 00530, training 0.0008, validation 0.0135, test 0.0135\n",
      "# 00540, training 0.0007, validation 0.0142, test 0.0142\n",
      "# 00550, training 0.0007, validation 0.0137, test 0.0137\n",
      "# 00560, training 0.0007, validation 0.0129, test 0.0129\n",
      "# 00570, training 0.0007, validation 0.0126, test 0.0126\n",
      "# 00580, training 0.0007, validation 0.0122, test 0.0122\n",
      "# 00590, training 0.0007, validation 0.0118, test 0.0118\n",
      "# 00600, training 0.0007, validation 0.0115, test 0.0115\n",
      "# 00610, training 0.0007, validation 0.0111, test 0.0111\n",
      "# 00620, training 0.0007, validation 0.0107, test 0.0107\n",
      "# 00630, training 0.0007, validation 0.0103, test 0.0103\n",
      "# 00640, training 0.0007, validation 0.0098, test 0.0098\n",
      "# 00650, training 0.0007, validation 0.0093, test 0.0093\n",
      "# 00660, training 0.0006, validation 0.0087, test 0.0087\n",
      "# 00670, training 0.0006, validation 0.0078, test 0.0078\n",
      "# 00680, training 0.0006, validation 0.0069, test 0.0069\n",
      "# 00690, training 0.0006, validation 0.0061, test 0.0061\n",
      "# 00700, training 0.0006, validation 0.0056, test 0.0056\n",
      "# 00710, training 0.0006, validation 0.0051, test 0.0051\n",
      "# 00720, training 0.0006, validation 0.0040, test 0.0040\n",
      "# 00730, training 0.0005, validation 0.0036, test 0.0036\n",
      "# 00740, training 0.0005, validation 0.0030, test 0.0030\n",
      "# 00750, training 0.0005, validation 0.0031, test 0.0031\n",
      "# 00760, training 0.0004, validation 0.0018, test 0.0018\n",
      "# 00770, training 0.0004, validation 0.0012, test 0.0012\n",
      "# 00780, training 0.0004, validation 0.0007, test 0.0007\n",
      "# 00790, training 0.0003, validation 0.0005, test 0.0005\n",
      "# 00800, training 0.0003, validation 0.0004, test 0.0004\n",
      "# 00810, training 0.0007, validation 0.0005, test 0.0005\n",
      "# 00820, training 0.0052, validation 0.0096, test 0.0096\n",
      "# 00830, training 0.0025, validation 0.0048, test 0.0048\n",
      "# 00840, training 0.0015, validation 0.0022, test 0.0022\n",
      "# 00850, training 0.0008, validation 0.0027, test 0.0027\n",
      "# 00860, training 0.0007, validation 0.0018, test 0.0018\n",
      "# 00870, training 0.0007, validation 0.0014, test 0.0014\n",
      "# 00880, training 0.0007, validation 0.0012, test 0.0012\n",
      "# 00890, training 0.0006, validation 0.0012, test 0.0012\n",
      "# 00900, training 0.0006, validation 0.0011, test 0.0011\n",
      "# 00910, training 0.0006, validation 0.0010, test 0.0010\n",
      "# 00920, training 0.0006, validation 0.0009, test 0.0009\n",
      "# 00930, training 0.0006, validation 0.0008, test 0.0008\n",
      "# 00940, training 0.0005, validation 0.0007, test 0.0007\n",
      "# 00950, training 0.0005, validation 0.0005, test 0.0005\n",
      "# 00960, training 0.0005, validation 0.0004, test 0.0004\n",
      "# 00970, training 0.0004, validation 0.0004, test 0.0004\n",
      "# 00980, training 0.0004, validation 0.0004, test 0.0004\n",
      "# 00990, training 0.0006, validation 0.0010, test 0.0010\n",
      "# 01000, training 0.0087, validation 0.0069, test 0.0069\n",
      "# 01010, training 0.0024, validation 0.0016, test 0.0016\n",
      "# 01020, training 0.0012, validation 0.0070, test 0.0070\n",
      "# 01030, training 0.0008, validation 0.0020, test 0.0020\n",
      "# 01040, training 0.0007, validation 0.0016, test 0.0016\n",
      "# 01050, training 0.0007, validation 0.0013, test 0.0013\n",
      "# 01060, training 0.0007, validation 0.0011, test 0.0011\n",
      "# 01070, training 0.0007, validation 0.0013, test 0.0013\n",
      "# 01080, training 0.0006, validation 0.0011, test 0.0011\n",
      "# 01090, training 0.0006, validation 0.0010, test 0.0010\n",
      "# 01100, training 0.0006, validation 0.0009, test 0.0009\n",
      "# 01110, training 0.0006, validation 0.0008, test 0.0008\n",
      "# 01120, training 0.0006, validation 0.0007, test 0.0007\n",
      "# 01130, training 0.0005, validation 0.0006, test 0.0006\n",
      "# 01140, training 0.0005, validation 0.0005, test 0.0005\n",
      "# 01150, training 0.0005, validation 0.0005, test 0.0005\n",
      "# 01160, training 0.0005, validation 0.0004, test 0.0004\n",
      "# 01170, training 0.0004, validation 0.0004, test 0.0004\n",
      "# 01180, training 0.0004, validation 0.0004, test 0.0004\n",
      "# 01190, training 0.0004, validation 0.0004, test 0.0004\n",
      "# 01200, training 0.0003, validation 0.0004, test 0.0004\n",
      "# 01210, training 0.0003, validation 0.0004, test 0.0004\n",
      "# 01220, training 0.0003, validation 0.0004, test 0.0004\n",
      "# 01230, training 0.0004, validation 0.0004, test 0.0004\n",
      "# 01240, training 0.0003, validation 0.0004, test 0.0004\n",
      "# 01250, training 0.0003, validation 0.0004, test 0.0004\n",
      "# 01260, training 0.0003, validation 0.0004, test 0.0004\n",
      "# 01270, training 0.0003, validation 0.0004, test 0.0004\n",
      "# 01280, training 0.0003, validation 0.0004, test 0.0004\n",
      "# 01290, training 0.0004, validation 0.0004, test 0.0004\n",
      "# 01300, training 0.0004, validation 0.0004, test 0.0004\n",
      "# 01310, training 0.0003, validation 0.0004, test 0.0004\n",
      "# 01320, training 0.0003, validation 0.0004, test 0.0004\n",
      "# 01330, training 0.0003, validation 0.0004, test 0.0004\n",
      "# 01340, training 0.0003, validation 0.0004, test 0.0004\n",
      "# 01350, training 0.0003, validation 0.0004, test 0.0004\n",
      "# 01360, training 0.0003, validation 0.0004, test 0.0004\n",
      "# 01370, training 0.0003, validation 0.0004, test 0.0004\n",
      "# 01380, training 0.0003, validation 0.0004, test 0.0004\n",
      "# 01390, training 0.0003, validation 0.0004, test 0.0004\n",
      "# 01400, training 0.0003, validation 0.0004, test 0.0004\n",
      "# 01410, training 0.0003, validation 0.0004, test 0.0004\n",
      "# 01420, training 0.0003, validation 0.0004, test 0.0004\n",
      "# 01430, training 0.0003, validation 0.0004, test 0.0004\n",
      "# 01440, training 0.0003, validation 0.0004, test 0.0004\n",
      "# 01450, training 0.0003, validation 0.0004, test 0.0004\n",
      "# 01460, training 0.0003, validation 0.0004, test 0.0004\n",
      "# 01470, training 0.0003, validation 0.0004, test 0.0004\n",
      "# 01480, training 0.0003, validation 0.0004, test 0.0004\n",
      "NO IMPROVEMENT IN 500 STEPS, STOPPING TRAINING...\n",
      "    1 steps:  best val res, r: training 0.9919, validation 0.9941, test 0.9941\n",
      "    2 steps:  best val res, r: training 0.9935, validation 0.9938, test 0.9938\n",
      "    3 steps:  best val res, r: training 0.9935, validation 0.9938, test 0.9938\n"
     ]
    }
   ],
   "source": [
    "train_mask = tf.constant(train_mask_np, dtype=tf.bool)\n",
    "test_mask  = tf.constant(test_mask_np , dtype=tf.bool)\n",
    "val_mask   = tf.constant(val_mask_np  , dtype=tf.bool)\n",
    "\n",
    "target_nodes = tf.constant(target_nodes_np)\n",
    "weight = tf.constant(weight_np)\n",
    "weight = None ##NOTE comment out if weights wanted \n",
    "\n",
    "\n",
    "# Create the model.\n",
    "node_output_size = len(target_nodes_np[0])\n",
    "model = EncodeProcessDecode(node_output_size=node_output_size)\n",
    "#print(model.summary())\n",
    "\n",
    "#--- training base graph\n",
    "output_ops, latent_ops = model(input_graph, num_processing_steps_tr) #[-1]\n",
    "# Training loss.\n",
    "loss_op_tr = []\n",
    "loss_op_va = []\n",
    "loss_op_ts = []\n",
    "corr_op_tr = []\n",
    "corr_op_va = []\n",
    "corr_op_ts = []\n",
    "\n",
    "for op in output_ops:\n",
    "    loss_op_tr.append( create_loss_ops(target_nodes, op, train_mask,weight))\n",
    "    loss_op_va.append( create_loss_ops(target_nodes, op,   val_mask,weight))\n",
    "    loss_op_ts.append( create_loss_ops(target_nodes, op,  test_mask,weight))\n",
    "    corr_op_tr.append( create_corr_ops(target_nodes, op, train_mask))\n",
    "    corr_op_va.append( create_corr_ops(target_nodes, op,   val_mask))\n",
    "    corr_op_ts.append( create_corr_ops(target_nodes, op,  test_mask))\n",
    "\n",
    "# Training loss across processing steps.\n",
    "loss_op_tr_sum = sum(loss_op_tr) / num_processing_steps_tr\n",
    "\n",
    "\n",
    "# Optimizer.\n",
    "optimizer = tf.train.AdamOptimizer(learning_rate)\n",
    "step_op = optimizer.minimize(loss_op_tr_sum)\n",
    "\n",
    "\n",
    "training_history = np.zeros((num_training_iterations, 3*num_processing_steps_tr)) \n",
    "correlat_history = np.zeros((num_training_iterations, 3*num_processing_steps_tr)) \n",
    "counter = 0\n",
    "\n",
    "\n",
    "# This cell resets the Tensorflow session, but keeps the same computational\n",
    "# graph.\n",
    "sess = tf.Session()\n",
    "sess.run(tf.global_variables_initializer())\n",
    "\n",
    "print(snt.format_variables(model.variables))\n",
    "\n",
    "best_corr = np.zeros((num_processing_steps_tr,3))\n",
    "best_val_loss = np.inf\n",
    "best_corr_loss = 0.0\n",
    "best_val_loss_all = np.inf*np.ones(num_processing_steps_tr)\n",
    "best_corr_loss_all = np.zeros(num_processing_steps_tr)\n",
    "last_improved = 0\n",
    "early_stopping_crit = 500\n",
    "\n",
    "\n",
    "measure_val_by_loss= True\n",
    "print(\"MEASURE VALIDATION BY LOSS \", measure_val_by_loss)\n",
    "\n",
    "# #--- training loop\n",
    "for iteration in range(num_training_iterations):\n",
    "    last_iteration = iteration\n",
    "    train_values = sess.run({\n",
    "        \"step\": step_op,\n",
    "        \"loss\": loss_op_tr,\n",
    "        \"outputs\": output_ops,\n",
    "        \"latents\": latent_ops,\n",
    "        \"corr\": corr_op_tr\n",
    "\n",
    "    })\n",
    "    \n",
    "\n",
    "    test_values = sess.run({\n",
    "        \"loss_val\":  loss_op_va,\n",
    "        \"loss_test\": loss_op_ts,\n",
    "            \"corr_val\": corr_op_va,\n",
    "            \"corr_test\": corr_op_ts\n",
    "    })\n",
    "    training_history[counter, 0:num_processing_steps_tr] = train_values['loss']\n",
    "    training_history[counter, num_processing_steps_tr:2*num_processing_steps_tr] = test_values['loss_val']\n",
    "    training_history[counter, 2*num_processing_steps_tr:] = test_values['loss_test']\n",
    "\n",
    "    correlat_history[counter, 0:num_processing_steps_tr] = np.median(train_values['corr'])\n",
    "    correlat_history[counter, num_processing_steps_tr:2*num_processing_steps_tr] = np.median(test_values['corr_val'])\n",
    "    correlat_history[counter, 2*num_processing_steps_tr:] = np.median(test_values['corr_test'])\n",
    "\n",
    "\n",
    "\n",
    "    if (iteration+1) %10==0:\n",
    "        print(\"# {:05d}, training {:.4f}, validation {:.4f}, test {:.4f}\".format(iteration+1,training_history[counter,num_processing_steps_tr-1], training_history[counter,2*num_processing_steps_tr-1],training_history[counter,-1]  ))\n",
    "\n",
    "        for i in range(num_processing_steps_tr):\n",
    "            if measure_val_by_loss:\n",
    "                cond =  (training_history[counter,num_processing_steps_tr+i] < best_val_loss_all[i])\n",
    "                cond_best = (training_history[counter,num_processing_steps_tr+i] < best_val_loss)\n",
    "            else:\n",
    "                cond =  (correlat_history[counter,num_processing_steps_tr+i] > best_corr_loss_all[i])\n",
    "                cond_best = (correlat_history[counter,num_processing_steps_tr+i] > best_corr_loss)\n",
    "            if cond:\n",
    "                step_output =  sess.run(output_ops[i].nodes) # sess.run(output_ops)\t\n",
    "#                 pdb.set_trace()\n",
    "                best_corr[i,0] = stats.pearsonr( step_output[train_mask_np].flatten(),  np.array(target_nodes_np)[train_mask_np].flatten() )[0]\n",
    "                best_corr[i,1] = stats.pearsonr( step_output[val_mask_np].flatten(),   np.array(target_nodes_np)[val_mask_np].flatten() )[0]\n",
    "                best_corr[i,2] = stats.pearsonr( step_output[test_mask_np].flatten(),   np.array(target_nodes_np)[test_mask_np].flatten() )[0]\n",
    "                #print(\"      best val res, r: training {:.4f}, validation {:.4f}, test {:.4f}\".format( best_corr[0], best_corr[1], best_corr[2]  ))\n",
    "                best_val_loss_all[i] = training_history[counter,num_processing_steps_tr+i]\n",
    "                best_corr_loss_all[i] = correlat_history[counter,num_processing_steps_tr+i]\n",
    "                if cond_best:\n",
    "                    best_output = np.copy(step_output)\n",
    "                    best_latent = sess.run(latent_ops[i])\n",
    "                    #print(best_latent.shape)\n",
    "                    best_val_loss = training_history[counter,num_processing_steps_tr+i]\n",
    "                    best_corr_loss = correlat_history[counter,num_processing_steps_tr+i]\n",
    "                    last_improved = counter\n",
    "    counter+=1 \n",
    "    if counter > last_improved + early_stopping_crit:\n",
    "        print('NO IMPROVEMENT IN {} STEPS, STOPPING TRAINING...'.format(int(early_stopping_crit)))\n",
    "        break\n",
    "\n",
    "\n",
    "f_label = \"{}_{}_{}{}\".format(pure_lab, learning_rate,num_processing_steps_tr,data_split_lab)\n",
    "\n",
    "training_history = training_history[:counter]\n",
    "correlat_history = correlat_history[:counter]\n",
    "for i in range(num_processing_steps_tr):\n",
    "    print(\"    {} steps:  best val res, r: training {:.4f}, validation {:.4f}, test {:.4f}\".format(i+1, best_corr[i,0], best_corr[i,1], best_corr[i,2]  ))\n",
    "    latest_output =  sess.run(output_ops[i].nodes) # sess.run(output_ops)\t\n",
    "#     np.savetxt(\"/scratch/work/salmenh1/gnn/training_results_deepmind/graphnet_all_proc_latest_pred_{}_{}.dat\".format(f_label,i+1), latest_output)\n",
    "\n",
    "\n",
    "\n",
    "# np.savetxt(   \"/scratch/work/salmenh1/gnn/training_results_deepmind/graphnet_all_proc_training_history_{}.dat\".format(f_label), training_history)\n",
    "# np.savetxt(\"/scratch/work/salmenh1/gnn/training_results_deepmind/graphnet_all_proc_correlation_history_{}.dat\".format(f_label), correlat_history)\n",
    "# np.savetxt(          \"/scratch/work/salmenh1/gnn/training_results_deepmind/graphnet_all_proc_best_pred_{}.dat\".format(f_label), best_output)\n",
    "# np.save(           \"/scratch/work/salmenh1/gnn/training_results_deepmind/graphnet_all_proc_best_latent_{}.npy\".format(f_label), best_latent)\n"
   ]
  },
  {
   "cell_type": "markdown",
   "id": "283954ee",
   "metadata": {},
   "source": [
    "## mse"
   ]
  },
  {
   "cell_type": "code",
   "execution_count": 117,
   "id": "4b1e0002",
   "metadata": {},
   "outputs": [
    {
     "data": {
      "image/png": "[encoded data removed]",
      "text/plain": [
       "<Figure size 288x288 with 1 Axes>"
      ]
     },
     "metadata": {
      "needs_background": "light"
     },
     "output_type": "display_data"
    },
    {
     "data": {
      "text/plain": [
       "<AxesSubplot:>"
      ]
     },
     "execution_count": 117,
     "metadata": {},
     "output_type": "execute_result"
    }
   ],
   "source": [
    "utl.PltErr(range(training_history.shape[0]),training_history[:,-1])"
   ]
  },
  {
   "cell_type": "code",
   "execution_count": null,
   "id": "460778e9",
   "metadata": {},
   "outputs": [],
   "source": [
    "# with sess.as_default():\n",
    "#     print(output_ops[0].receivers.eval().shape)"
   ]
  },
  {
   "cell_type": "markdown",
   "id": "d5ab252a",
   "metadata": {},
   "source": [
    "## predictions"
   ]
  },
  {
   "cell_type": "code",
   "execution_count": 118,
   "id": "a04b558b",
   "metadata": {},
   "outputs": [
    {
     "name": "stdout",
     "output_type": "stream",
     "text": [
      "mkdir: png: File exists\r\n"
     ]
    },
    {
     "data": {
      "image/png": "[encoded data removed]",
      "text/plain": [
       "<Figure size 288x288 with 1 Axes>"
      ]
     },
     "metadata": {
      "needs_background": "light"
     },
     "output_type": "display_data"
    },
    {
     "data": {
      "text/plain": [
       "<AxesSubplot:xlabel='actual', ylabel='predicted'>"
      ]
     },
     "execution_count": 118,
     "metadata": {},
     "output_type": "execute_result"
    }
   ],
   "source": [
    "!mkdir png\n",
    "#ax=utl.PltErr(target_nodes_np,target_nodes_np,attrs={'fmt':'-r'},Plot=False)\n",
    "filtr = [train_mask_np,test_mask_np][0]\n",
    "xmin=np.min([target_nodes_np,best_output])\n",
    "xmax=np.max([target_nodes_np,best_output])\n",
    "utl.PltErr(target_nodes_np, best_output,\n",
    "           attrs={'fmt':'.'},\n",
    "            xlim=(xmin,xmax),\n",
    "           ylim=(xmin,xmax),\n",
    "           title = 'png/hardness.png',\n",
    "           xstr='actual',\n",
    "           ystr='predicted',\n",
    "#           ax=ax,\n",
    "          )"
   ]
  },
  {
   "cell_type": "code",
   "execution_count": 249,
   "id": "8514e238",
   "metadata": {},
   "outputs": [
    {
     "name": "stdout",
     "output_type": "stream",
     "text": [
      "test set\n"
     ]
    },
    {
     "data": {
      "image/png": "[encoded data removed]",
      "text/plain": [
       "<Figure size 288x288 with 1 Axes>"
      ]
     },
     "metadata": {
      "needs_background": "light"
     },
     "output_type": "display_data"
    },
    {
     "data": {
      "text/plain": [
       "<AxesSubplot:xlabel='actual', ylabel='predicted'>"
      ]
     },
     "execution_count": 249,
     "metadata": {},
     "output_type": "execute_result"
    }
   ],
   "source": [
    "grain_indx=1\n",
    "if train_mask_np[grain_indx]:\n",
    "    print('training set')\n",
    "else:\n",
    "    print('test set')\n",
    "\n",
    "ax=utl.PltErr(range(len(target_nodes_np[grain_indx])),\n",
    "           target_nodes_np[grain_indx], \n",
    "           attrs={'fmt':'.'},\n",
    "            Plot=False\n",
    "             )\n",
    "\n",
    "utl.PltErr(range(len(target_nodes_np[grain_indx])),\n",
    "           best_output[grain_indx],\n",
    "           attrs={'fmt':'-'},\n",
    "#            xlim=(xmin,xmax),\n",
    "#           ylim=(xmin,xmax),\n",
    "#           title = 'png/hardness.png',\n",
    "           xstr='actual',\n",
    "           ystr='predicted',\n",
    "           ax=ax,\n",
    "          )"
   ]
  },
  {
   "cell_type": "code",
   "execution_count": null,
   "id": "a1e552de",
   "metadata": {},
   "outputs": [],
   "source": []
  }
 ],
 "metadata": {
  "kernelspec": {
   "display_name": "Python [conda env:gnnEnv]",
   "language": "python",
   "name": "conda-env-gnnEnv-py"
  },
  "language_info": {
   "codemirror_mode": {
    "name": "ipython",
    "version": 3
   },
   "file_extension": ".py",
   "mimetype": "text/x-python",
   "name": "python",
   "nbconvert_exporter": "python",
   "pygments_lexer": "ipython3",
   "version": "3.7.13"
  },
  "toc": {
   "base_numbering": 1,
   "nav_menu": {},
   "number_sections": true,
   "sideBar": true,
   "skip_h1_title": false,
   "title_cell": "Table of Contents",
   "title_sidebar": "Contents",
   "toc_cell": false,
   "toc_position": {
    "height": "calc(100% - 180px)",
    "left": "10px",
    "top": "150px",
    "width": "565.2px"
   },
   "toc_section_display": true,
   "toc_window_display": true
  }
 },
 "nbformat": 4,
 "nbformat_minor": 5
}
